{
 "cells": [
  {
   "cell_type": "markdown",
   "metadata": {},
   "source": [
    "# Import Libraries"
   ]
  },
  {
   "cell_type": "code",
   "execution_count": 8,
   "metadata": {},
   "outputs": [],
   "source": [
    "import pandas as pd\n",
    "from matplotlib import pyplot as plt\n",
    "from sklearn.datasets import load_iris"
   ]
  },
  {
   "cell_type": "markdown",
   "metadata": {},
   "source": [
    "# Load Data"
   ]
  },
  {
   "cell_type": "code",
   "execution_count": 9,
   "metadata": {},
   "outputs": [
    {
     "name": "stdout",
     "output_type": "stream",
     "text": [
      "Iris keys =  ['target', 'DESCR', 'target_names', 'feature_names', 'data', 'filename']\n",
      "Iris features =  ['sepal length (cm)', 'sepal width (cm)', 'petal length (cm)', 'petal width (cm)']\n"
     ]
    }
   ],
   "source": [
    "Iris = load_iris()\n",
    "\n",
    "print \"Iris keys = \", Iris.keys()\n",
    "\n",
    "print \"Iris features = \", Iris.feature_names\n",
    "\n",
    "X = Iris.data\n",
    "\n",
    "y = Iris.target\n"
   ]
  },
  {
   "cell_type": "markdown",
   "metadata": {},
   "source": [
    "# Model Development"
   ]
  },
  {
   "cell_type": "code",
   "execution_count": 11,
   "metadata": {},
   "outputs": [
    {
     "data": {
      "text/plain": [
       "DecisionTreeClassifier(class_weight=None, criterion='gini', max_depth=None,\n",
       "            max_features=None, max_leaf_nodes=None,\n",
       "            min_impurity_decrease=0.0, min_impurity_split=None,\n",
       "            min_samples_leaf=1, min_samples_split=2,\n",
       "            min_weight_fraction_leaf=0.0, presort=False, random_state=None,\n",
       "            splitter='best')"
      ]
     },
     "execution_count": 11,
     "metadata": {},
     "output_type": "execute_result"
    }
   ],
   "source": [
    "X = Iris.data\n",
    "y = Iris.target\n",
    "\n",
    "from sklearn.model_selection import train_test_split as SPLIT\n",
    "\n",
    "# Use test_size = 0.20 and random_state = 2\n",
    "\n",
    "X_train, X_test, y_train, y_test = SPLIT(X, y, test_size = 0.20, random_state = 2)\n",
    "\n",
    "from sklearn.tree import DecisionTreeClassifier\n",
    "\n",
    "My_Tree = DecisionTreeClassifier()\n",
    "\n",
    "My_Tree.fit(X_train, y_train)\n",
    "\n"
   ]
  },
  {
   "cell_type": "markdown",
   "metadata": {},
   "source": [
    "# Prediction and Accuracy"
   ]
  },
  {
   "cell_type": "code",
   "execution_count": 12,
   "metadata": {},
   "outputs": [
    {
     "name": "stdout",
     "output_type": "stream",
     "text": [
      "Accuracy on Test =  0.9333333333333333\n",
      "Accuracy on Train =  1.0\n"
     ]
    }
   ],
   "source": [
    "y_predict = My_Tree.predict(X_test)\n",
    "\n",
    "y_predict_train = My_Tree.predict(X_train)\n",
    "# print accuracy scores\n",
    "\n",
    "from sklearn.metrics import accuracy_score\n",
    "\n",
    "print \"Accuracy on Test = \", accuracy_score(y_test, y_predict)\n",
    "\n",
    "print \"Accuracy on Train = \", accuracy_score(y_train, y_predict_train)\n"
   ]
  },
  {
   "cell_type": "markdown",
   "metadata": {},
   "source": [
    "## Overfitting Problem"
   ]
  },
  {
   "cell_type": "markdown",
   "metadata": {},
   "source": [
    "It seems that we have a little bit of overfitting problem (for random_state = 2)"
   ]
  },
  {
   "cell_type": "markdown",
   "metadata": {},
   "source": [
    "## Pre-pruning"
   ]
  },
  {
   "cell_type": "markdown",
   "metadata": {},
   "source": [
    "Pre-pruning is a measure taken to restrict the complexity of a tree to avoid overfitting\n",
    "\n",
    "Use *max_depth* to restric the depth of a tree\n",
    "\n",
    "Use *max_leaf_nodes* to restric the maximum number of leafs in your tree\n",
    "\n",
    "Use *min_samples_leaf* to restrict the set the minimum number of samples considered for splitting"
   ]
  },
  {
   "cell_type": "code",
   "execution_count": 52,
   "metadata": {
    "collapsed": true
   },
   "outputs": [],
   "source": [
    "# Develop another tree classifier with max_depth = 3\n",
    "my_tree_classifier_2 = tree.DecisionTreeClassifier(max_depth = 3).fit(X_train, y_train)"
   ]
  },
  {
   "cell_type": "code",
   "execution_count": 56,
   "metadata": {},
   "outputs": [
    {
     "name": "stdout",
     "output_type": "stream",
     "text": [
      "Accuracy Score on Test Data =  0.966666666667\n",
      "Accuracy Score on Train Data =  0.983333333333\n"
     ]
    }
   ],
   "source": [
    "y_pred = my_tree_classifier_2.predict(X_test)\n",
    "y_pred_train = my_tree_classifier_2.predict(X_train)\n",
    "\n",
    "print \"Accuracy Score on Test Data = \", accuracy_score(y_test, y_pred)\n",
    "print \"Accuracy Score on Train Data = \", accuracy_score(y_train, y_pred_train)"
   ]
  },
  {
   "cell_type": "code",
   "execution_count": 57,
   "metadata": {
    "collapsed": true
   },
   "outputs": [],
   "source": [
    "Feature_Importances = my_tree_classifier_2.feature_importances_"
   ]
  },
  {
   "cell_type": "code",
   "execution_count": 58,
   "metadata": {},
   "outputs": [
    {
     "name": "stdout",
     "output_type": "stream",
     "text": [
      "Feature Importances =  [ 0.          0.          0.55131392  0.44868608]\n"
     ]
    }
   ],
   "source": [
    "print \"Feature Importances = \", Feature_Importances"
   ]
  },
  {
   "cell_type": "code",
   "execution_count": 59,
   "metadata": {},
   "outputs": [
    {
     "data": {
      "text/plain": [
       "['sepal length (cm)',\n",
       " 'sepal width (cm)',\n",
       " 'petal length (cm)',\n",
       " 'petal width (cm)']"
      ]
     },
     "execution_count": 59,
     "metadata": {},
     "output_type": "execute_result"
    }
   ],
   "source": [
    "Iris.feature_names"
   ]
  },
  {
   "cell_type": "code",
   "execution_count": 60,
   "metadata": {},
   "outputs": [
    {
     "name": "stdout",
     "output_type": "stream",
     "text": [
      "Feature Importances for my_tree_classifier =  [ 0.          0.01879699  0.53058783  0.45061517]\n"
     ]
    }
   ],
   "source": [
    "print \"Feature Importances for my_tree_classifier = \", my_tree_classifier.feature_importances_"
   ]
  },
  {
   "cell_type": "code",
   "execution_count": null,
   "metadata": {
    "collapsed": true
   },
   "outputs": [],
   "source": []
  }
 ],
 "metadata": {
  "kernelspec": {
   "display_name": "Python 2",
   "language": "python",
   "name": "python2"
  },
  "language_info": {
   "codemirror_mode": {
    "name": "ipython",
    "version": 2
   },
   "file_extension": ".py",
   "mimetype": "text/x-python",
   "name": "python",
   "nbconvert_exporter": "python",
   "pygments_lexer": "ipython2",
   "version": "2.7.17"
  }
 },
 "nbformat": 4,
 "nbformat_minor": 2
}
