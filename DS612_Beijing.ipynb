{
 "cells": [
  {
   "cell_type": "markdown",
   "id": "89981ffb",
   "metadata": {},
   "source": [
    "## Import Libraries"
   ]
  },
  {
   "cell_type": "code",
   "execution_count": null,
   "id": "0dcc3e3a",
   "metadata": {},
   "outputs": [],
   "source": [
    "#Checkpoints:\n",
    "#Optimization of alpha values\n",
    "#visuals\n",
    "#SVM"
   ]
  },
  {
   "cell_type": "code",
   "execution_count": 89,
   "id": "ae320278",
   "metadata": {},
   "outputs": [],
   "source": [
    "import os\n",
    "import pandas as pd\n",
    "import matplotlib.pyplot as plt\n",
    "import numpy as np\n",
    "import seaborn as sb\n",
    "sb.set()\n",
    "\n",
    "df = pd.read_csv('/Users/sandeepk/Downloads/Beijing_Data/Beijing_Weather.csv')"
   ]
  },
  {
   "cell_type": "markdown",
   "id": "cbb398d3",
   "metadata": {},
   "source": [
    "## Data Cleansing and Analyis"
   ]
  },
  {
   "cell_type": "code",
   "execution_count": 90,
   "id": "bb489f36",
   "metadata": {},
   "outputs": [],
   "source": [
    "#Clean Dataset\n",
    "df.dropna(subset=['DEWP', 'TEMP'])\n",
    "df =df[~df.isin([np.nan, np.inf, -np.inf]).any(1)]"
   ]
  },
  {
   "cell_type": "code",
   "execution_count": 203,
   "id": "ef0688a9",
   "metadata": {},
   "outputs": [],
   "source": [
    "#Recieve na reporting\n",
    "ls = list(df.columns)\n",
    "for x in ls:\n",
    "    if sum(df[x].isna()) > 0:\n",
    "        print(x)\n",
    "        print(sum(df[x].isna()))\n"
   ]
  },
  {
   "cell_type": "code",
   "execution_count": 102,
   "id": "0858583e",
   "metadata": {},
   "outputs": [
    {
     "name": "stdout",
     "output_type": "stream",
     "text": [
      "Options to View Outliers\n",
      "1 No\n",
      "2 year\n",
      "3 month\n",
      "4 day\n",
      "5 hour\n",
      "6 PM2.5\n",
      "7 PM10\n",
      "8 SO2\n",
      "9 NO2\n",
      "10 CO\n",
      "11 O3\n",
      "12 TEMP\n",
      "13 PRES\n",
      "14 DEWP\n",
      "15 RAIN\n",
      "16 wd\n",
      "17 WSPM\n",
      "18 station\n",
      "12\n",
      "Descriptive Statistics\n",
      "---------------------\n",
      "MAX: 40.40\n",
      "MIN: -16.80\n",
      "AVG: 13.62\n",
      "STDV: 11.22\n",
      "Percentiles:\n",
      "0.250     3.6\n",
      "0.500    14.6\n",
      "0.999    35.9\n",
      "Name: TEMP, dtype: float64\n"
     ]
    },
    {
     "data": {
      "image/png": "[encoded data removed]",
      "text/plain": [
       "<Figure size 432x288 with 1 Axes>"
      ]
     },
     "metadata": {},
     "output_type": "display_data"
    }
   ],
   "source": [
    "index = 0\n",
    "print(\"Options to View Outliers\")\n",
    "for x in df.columns:\n",
    "    index += 1\n",
    "    print(index, x)\n",
    "choice = int(input())\n",
    "z = df.columns[choice-1]\n",
    "bplot = df.boxplot(column = [z])\n",
    "print(\"Descriptive Statistics\")\n",
    "print('---------------------')\n",
    "print(f'MAX: {df[z].max():,.2f}')\n",
    "print(f'MIN: {df[z].min():,.2f}')\n",
    "print(f'AVG: {df[z].mean():,.2f}')\n",
    "print(f'STDV: {df[z].std():,.2f}')\n",
    "print(\"Percentiles:\")\n",
    "print(df[z].quantile(q=[0.25,0.5,0.999]))"
   ]
  },
  {
   "cell_type": "markdown",
   "id": "53192599",
   "metadata": {},
   "source": [
    "## LINEAR REGRESSION\n",
    "- Predictor: Dew Point\n",
    "- Target: Temperature"
   ]
  },
  {
   "cell_type": "code",
   "execution_count": 104,
   "id": "41e59eb2",
   "metadata": {},
   "outputs": [],
   "source": [
    "#Import Regression and ML Libraries\n",
    "from sklearn.linear_model import LinearRegression\n",
    "from sklearn.metrics import r2_score \n",
    "from sklearn.model_selection import train_test_split\n",
    "\n",
    "x = df['DEWP']\n",
    "y = df['TEMP']"
   ]
  },
  {
   "cell_type": "code",
   "execution_count": 26,
   "id": "7ed619f0",
   "metadata": {},
   "outputs": [
    {
     "data": {
      "image/png": "[encoded data removed]",
      "text/plain": [
       "<Figure size 432x288 with 1 Axes>"
      ]
     },
     "metadata": {},
     "output_type": "display_data"
    }
   ],
   "source": [
    "#Visualization of relationship (Dew Point + Temperature)\n",
    "plt.xlabel(\"Dew Point\")\n",
    "plt.ylabel(\"Temperature (C)\")\n",
    "plt.legend(\"Relationship (Dew Point + Temperature)\")\n",
    "plt.plot(x,y, 'o')\n",
    "\n",
    "plt.show()"
   ]
  },
  {
   "cell_type": "code",
   "execution_count": 27,
   "id": "7df68143",
   "metadata": {},
   "outputs": [],
   "source": [
    "#Split Data into Training and Testing (80/20)\n",
    "x_train, x_test, y_train, y_test = train_test_split(x, y, test_size = 0.2, random_state = 0)\n",
    "\n",
    "x_train = x_train.values.reshape(-1,1)\n",
    "\n",
    "x_test = x_test.values.reshape(-1,1)\n",
    "\n",
    "#Model Development\n",
    "lr_model = LinearRegression().fit(x_train, y_train)"
   ]
  },
  {
   "cell_type": "code",
   "execution_count": 28,
   "id": "04e59372",
   "metadata": {},
   "outputs": [
    {
     "data": {
      "text/html": [
       "<div>\n",
       "<style scoped>\n",
       "    .dataframe tbody tr th:only-of-type {\n",
       "        vertical-align: middle;\n",
       "    }\n",
       "\n",
       "    .dataframe tbody tr th {\n",
       "        vertical-align: top;\n",
       "    }\n",
       "\n",
       "    .dataframe thead th {\n",
       "        text-align: right;\n",
       "    }\n",
       "</style>\n",
       "<table border=\"1\" class=\"dataframe\">\n",
       "  <thead>\n",
       "    <tr style=\"text-align: right;\">\n",
       "      <th></th>\n",
       "      <th>LR</th>\n",
       "    </tr>\n",
       "  </thead>\n",
       "  <tbody>\n",
       "    <tr>\n",
       "      <th>Train</th>\n",
       "      <td>0.65198</td>\n",
       "    </tr>\n",
       "    <tr>\n",
       "      <th>Test</th>\n",
       "      <td>0.65032</td>\n",
       "    </tr>\n",
       "  </tbody>\n",
       "</table>\n",
       "</div>"
      ],
      "text/plain": [
       "            LR\n",
       "Train  0.65198\n",
       "Test   0.65032"
      ]
     },
     "execution_count": 28,
     "metadata": {},
     "output_type": "execute_result"
    }
   ],
   "source": [
    "#Prediction and Performance Evaluation\n",
    "y_pred = lr_model.predict(x_test)\n",
    "r2_test = r2_score(y_test,y_pred)\n",
    "\n",
    "y_pred_train = lr_model.predict(x_train)\n",
    "r2_train = r2_score(y_train,y_pred_train)\n",
    "\n",
    "r2_scores = pd.DataFrame()\n",
    "r2_scores[\"LR\"] = [r2_test,r2_train]\n",
    "r2_scores.rename(index = {0: \"Train\", 1:\"Test\"}, inplace = True)\n",
    "r2_scores"
   ]
  },
  {
   "cell_type": "code",
   "execution_count": 29,
   "id": "05d7ab10",
   "metadata": {},
   "outputs": [
    {
     "data": {
      "image/png": "[encoded data removed]",
      "text/plain": [
       "<Figure size 432x288 with 1 Axes>"
      ]
     },
     "metadata": {},
     "output_type": "display_data"
    }
   ],
   "source": [
    "#Visualization of Linear Regression Trend\n",
    "plt.xlabel(\"Dew Point\")\n",
    "plt.ylabel(\"Temperature (C)\")\n",
    "plt.title(\"ML LR Model Prediction\")\n",
    "plt.plot(x, y, 'o')\n",
    "plt.plot(x_test,y_pred)\n",
    "plt.show()"
   ]
  },
  {
   "cell_type": "code",
   "execution_count": 75,
   "id": "35dc8d80",
   "metadata": {},
   "outputs": [
    {
     "name": "stdout",
     "output_type": "stream",
     "text": [
      "Enter Dew Point: 11.1\n",
      "Enter another value? (Y/N): y\n",
      "Enter Dew Point: 20.0\n",
      "Enter another value? (Y/N): n\n"
     ]
    },
    {
     "data": {
      "text/html": [
       "<div>\n",
       "<style scoped>\n",
       "    .dataframe tbody tr th:only-of-type {\n",
       "        vertical-align: middle;\n",
       "    }\n",
       "\n",
       "    .dataframe tbody tr th {\n",
       "        vertical-align: top;\n",
       "    }\n",
       "\n",
       "    .dataframe thead th {\n",
       "        text-align: right;\n",
       "    }\n",
       "</style>\n",
       "<table border=\"1\" class=\"dataframe\">\n",
       "  <thead>\n",
       "    <tr style=\"text-align: right;\">\n",
       "      <th></th>\n",
       "      <th>Dew Point</th>\n",
       "      <th>Temp_pred</th>\n",
       "    </tr>\n",
       "  </thead>\n",
       "  <tbody>\n",
       "    <tr>\n",
       "      <th>0</th>\n",
       "      <td>11.1</td>\n",
       "      <td>19.54</td>\n",
       "    </tr>\n",
       "    <tr>\n",
       "      <th>1</th>\n",
       "      <td>20.0</td>\n",
       "      <td>25.52</td>\n",
       "    </tr>\n",
       "  </tbody>\n",
       "</table>\n",
       "</div>"
      ],
      "text/plain": [
       "   Dew Point  Temp_pred\n",
       "0       11.1      19.54\n",
       "1       20.0      25.52"
      ]
     },
     "execution_count": 75,
     "metadata": {},
     "output_type": "execute_result"
    }
   ],
   "source": [
    "#User-input Prediction\n",
    "\n",
    "lst = []\n",
    "pred_lst = []\n",
    "\n",
    "validation = \"Y\"\n",
    "while validation == \"Y\":\n",
    "    choice = float(input(\"Enter Dew Point: \"))\n",
    "    lst.append(choice)\n",
    "    validation = input(\"Enter another value? (Y/N): \").upper()\n",
    "    \n",
    "for x in lst:\n",
    "    pred = lr_model.predict([[x]])[0]\n",
    "    pred_lst.append(pred)\n",
    "\n",
    "user_df = pd.DataFrame()\n",
    "user_df[\"Dew Point\"] = lst\n",
    "user_df[\"Temp_pred\"] = pred_lst\n",
    "\n",
    "user_df.round(2)"
   ]
  },
  {
   "cell_type": "markdown",
   "id": "94068cf3",
   "metadata": {},
   "source": [
    "## Multiple Regression\n",
    "- Predictors: Dew Point, Month, Air Pressure\n",
    "- Target: Temperature"
   ]
  },
  {
   "cell_type": "code",
   "execution_count": 171,
   "id": "acf8b97c",
   "metadata": {},
   "outputs": [
    {
     "data": {
      "text/html": [
       "<div>\n",
       "<style scoped>\n",
       "    .dataframe tbody tr th:only-of-type {\n",
       "        vertical-align: middle;\n",
       "    }\n",
       "\n",
       "    .dataframe tbody tr th {\n",
       "        vertical-align: top;\n",
       "    }\n",
       "\n",
       "    .dataframe thead th {\n",
       "        text-align: right;\n",
       "    }\n",
       "</style>\n",
       "<table border=\"1\" class=\"dataframe\">\n",
       "  <thead>\n",
       "    <tr style=\"text-align: right;\">\n",
       "      <th></th>\n",
       "      <th>TEMP</th>\n",
       "    </tr>\n",
       "  </thead>\n",
       "  <tbody>\n",
       "    <tr>\n",
       "      <th>DEWP</th>\n",
       "      <td>0.806634</td>\n",
       "    </tr>\n",
       "    <tr>\n",
       "      <th>month</th>\n",
       "      <td>0.131943</td>\n",
       "    </tr>\n",
       "    <tr>\n",
       "      <th>PRES</th>\n",
       "      <td>-0.829291</td>\n",
       "    </tr>\n",
       "    <tr>\n",
       "      <th>TEMP</th>\n",
       "      <td>1.000000</td>\n",
       "    </tr>\n",
       "  </tbody>\n",
       "</table>\n",
       "</div>"
      ],
      "text/plain": [
       "           TEMP\n",
       "DEWP   0.806634\n",
       "month  0.131943\n",
       "PRES  -0.829291\n",
       "TEMP   1.000000"
      ]
     },
     "execution_count": 171,
     "metadata": {},
     "output_type": "execute_result"
    }
   ],
   "source": [
    "x = df[[\"DEWP\", \"month\", \"PRES\"]]\n",
    "y = df[\"TEMP\"]\n",
    "\n",
    "#CORRELATION MATRIX\n",
    "Corrs = df[[\"DEWP\", \"month\", \"PRES\", \"TEMP\"]].corr()\n",
    "Corrs[['TEMP']]"
   ]
  },
  {
   "cell_type": "code",
   "execution_count": 172,
   "id": "90df5455",
   "metadata": {},
   "outputs": [],
   "source": [
    "#Split Data into Training and Testing (80/20)\n",
    "from sklearn.model_selection import train_test_split as SPLIT\n",
    "X_train, X_test, y_train, y_test = SPLIT(x, y, test_size = 0.2,\n",
    "                                                   random_state = 10)\n",
    "\n",
    "#Model Development\n",
    "lr_model = LinearRegression().fit(X_train, y_train)"
   ]
  },
  {
   "cell_type": "code",
   "execution_count": 173,
   "id": "ab789f02",
   "metadata": {},
   "outputs": [
    {
     "data": {
      "text/html": [
       "<div>\n",
       "<style scoped>\n",
       "    .dataframe tbody tr th:only-of-type {\n",
       "        vertical-align: middle;\n",
       "    }\n",
       "\n",
       "    .dataframe tbody tr th {\n",
       "        vertical-align: top;\n",
       "    }\n",
       "\n",
       "    .dataframe thead th {\n",
       "        text-align: right;\n",
       "    }\n",
       "</style>\n",
       "<table border=\"1\" class=\"dataframe\">\n",
       "  <thead>\n",
       "    <tr style=\"text-align: right;\">\n",
       "      <th></th>\n",
       "      <th>LR</th>\n",
       "    </tr>\n",
       "  </thead>\n",
       "  <tbody>\n",
       "    <tr>\n",
       "      <th>Train</th>\n",
       "      <td>0.764851</td>\n",
       "    </tr>\n",
       "    <tr>\n",
       "      <th>Test</th>\n",
       "      <td>0.763689</td>\n",
       "    </tr>\n",
       "  </tbody>\n",
       "</table>\n",
       "</div>"
      ],
      "text/plain": [
       "             LR\n",
       "Train  0.764851\n",
       "Test   0.763689"
      ]
     },
     "execution_count": 173,
     "metadata": {},
     "output_type": "execute_result"
    }
   ],
   "source": [
    "#Prediction and Performance Evaluation\n",
    "y_pred = lr_model.predict(X_test)\n",
    "r2_test = r2_score(y_test, y_pred)\n",
    "\n",
    "y_pred_train = lr_model.predict(X_train)\n",
    "r2_train = r2_score(y_train, y_pred_train)\n",
    "\n",
    "r2_scores = pd.DataFrame()\n",
    "r2_scores['LR'] = [r2_train, r2_test]\n",
    "\n",
    "r2_scores.rename(index = {0: \"Train\", 1:\"Test\"}, inplace = True)\n",
    "r2_scores"
   ]
  },
  {
   "cell_type": "markdown",
   "id": "7f46352b",
   "metadata": {},
   "source": [
    "## Lasso Regression"
   ]
  },
  {
   "cell_type": "code",
   "execution_count": 174,
   "id": "61a20be8",
   "metadata": {},
   "outputs": [],
   "source": [
    "#Model Development\n",
    "from sklearn.linear_model import Lasso\n",
    "#start at .05\n",
    "lasso_model = Lasso(alpha=.52).fit(X_train, y_train)"
   ]
  },
  {
   "cell_type": "code",
   "execution_count": 175,
   "id": "ab31a67b",
   "metadata": {},
   "outputs": [
    {
     "data": {
      "text/html": [
       "<div>\n",
       "<style scoped>\n",
       "    .dataframe tbody tr th:only-of-type {\n",
       "        vertical-align: middle;\n",
       "    }\n",
       "\n",
       "    .dataframe tbody tr th {\n",
       "        vertical-align: top;\n",
       "    }\n",
       "\n",
       "    .dataframe thead th {\n",
       "        text-align: right;\n",
       "    }\n",
       "</style>\n",
       "<table border=\"1\" class=\"dataframe\">\n",
       "  <thead>\n",
       "    <tr style=\"text-align: right;\">\n",
       "      <th></th>\n",
       "      <th>LR</th>\n",
       "      <th>Lasso</th>\n",
       "    </tr>\n",
       "  </thead>\n",
       "  <tbody>\n",
       "    <tr>\n",
       "      <th>Train</th>\n",
       "      <td>0.764851</td>\n",
       "      <td>0.764826</td>\n",
       "    </tr>\n",
       "    <tr>\n",
       "      <th>Test</th>\n",
       "      <td>0.763689</td>\n",
       "      <td>0.763696</td>\n",
       "    </tr>\n",
       "  </tbody>\n",
       "</table>\n",
       "</div>"
      ],
      "text/plain": [
       "             LR     Lasso\n",
       "Train  0.764851  0.764826\n",
       "Test   0.763689  0.763696"
      ]
     },
     "execution_count": 175,
     "metadata": {},
     "output_type": "execute_result"
    }
   ],
   "source": [
    "#Preditction and Performance Evaluation\n",
    "y_pred = lasso_model.predict(X_test)\n",
    "r2_test = r2_score(y_test, y_pred)\n",
    "\n",
    "y_pred_train = lasso_model.predict(X_train)\n",
    "r2_train = r2_score(y_train, y_pred_train)\n",
    "\n",
    "r2_scores[\"Lasso\"] = [r2_train, r2_test]\n",
    "r2_scores"
   ]
  },
  {
   "cell_type": "code",
   "execution_count": 176,
   "id": "47e6fa2e",
   "metadata": {},
   "outputs": [],
   "source": [
    "def optimization(model, X_train, X_test, y_train, y_test):\n",
    "    optimization_df = pd.DataFrame()\n",
    "    for a in np.arange(0, 2, 0.01):\n",
    "        my_model = model(alpha = a).fit(X_train, y_train)\n",
    "        y_predict_train = my_model.predict(X_train)\n",
    "        y_predict = my_model.predict(X_test)\n",
    "        optimization_df[f'Alpha={a:.2f}'] = [r2_score(y_train, y_predict_train),r2_score(y_test, y_predict)]\n",
    "    optimization_df.rename(index = {0: \"Train\", 1:\"Test\"}, inplace = True)\n",
    "\n",
    "    lst1 = []\n",
    "\n",
    "    for x in range(len(optimization_df.columns)):\n",
    "        lst1.append(optimization_df.iloc[1, x])\n",
    "    \n",
    "    col_index = lst1.index(max(lst1))          \n",
    "    return optimization_df.iloc[:,col_index]"
   ]
  },
  {
   "cell_type": "code",
   "execution_count": 177,
   "id": "c7d4606e",
   "metadata": {},
   "outputs": [
    {
     "name": "stderr",
     "output_type": "stream",
     "text": [
      "/var/folders/2n/y8fl7fr16hs_g_085s9fnpqm0000gn/T/ipykernel_92178/1576320378.py:4: UserWarning: With alpha=0, this algorithm does not converge well. You are advised to use the LinearRegression estimator\n",
      "  my_model = model(alpha = a).fit(X_train, y_train)\n",
      "/Users/sandeepk/opt/anaconda3/lib/python3.8/site-packages/sklearn/linear_model/_coordinate_descent.py:648: UserWarning: Coordinate descent with no regularization may lead to unexpected results and is discouraged.\n",
      "  model = cd_fast.enet_coordinate_descent(\n",
      "/Users/sandeepk/opt/anaconda3/lib/python3.8/site-packages/sklearn/linear_model/_coordinate_descent.py:648: ConvergenceWarning: Objective did not converge. You might want to increase the number of iterations, check the scale of the features or consider increasing regularisation. Duality gap: 3.601e+05, tolerance: 3.063e+02 Linear regression models with null weight for the l1 regularization term are more efficiently fitted using one of the solvers implemented in sklearn.linear_model.Ridge/RidgeCV instead.\n",
      "  model = cd_fast.enet_coordinate_descent(\n"
     ]
    },
    {
     "data": {
      "text/plain": [
       "Train    0.764826\n",
       "Test     0.763696\n",
       "Name: Alpha=0.52, dtype: float64"
      ]
     },
     "execution_count": 177,
     "metadata": {},
     "output_type": "execute_result"
    }
   ],
   "source": [
    "optimization(Lasso, X_train, X_test, y_train, y_test)"
   ]
  },
  {
   "cell_type": "markdown",
   "id": "32378111",
   "metadata": {},
   "source": [
    "## Lasso Regression Scaled"
   ]
  },
  {
   "cell_type": "code",
   "execution_count": 178,
   "id": "c7c16283",
   "metadata": {},
   "outputs": [],
   "source": [
    "#Normalize/Scale Data\n",
    "from sklearn.preprocessing import MinMaxScaler\n",
    "\n",
    "scaler = MinMaxScaler()\n",
    "\n",
    "#Fit Scaler\n",
    "X_train_scaled = scaler.fit_transform(X_train)\n",
    "X_test_scaled = scaler.transform(X_test)"
   ]
  },
  {
   "cell_type": "code",
   "execution_count": 179,
   "id": "40d65699",
   "metadata": {},
   "outputs": [],
   "source": [
    "#Model Development\n",
    "lasso_scaled_model = Lasso(alpha=.05).fit(X_train_scaled, y_train)"
   ]
  },
  {
   "cell_type": "code",
   "execution_count": 180,
   "id": "cd5908a0",
   "metadata": {},
   "outputs": [
    {
     "data": {
      "text/html": [
       "<div>\n",
       "<style scoped>\n",
       "    .dataframe tbody tr th:only-of-type {\n",
       "        vertical-align: middle;\n",
       "    }\n",
       "\n",
       "    .dataframe tbody tr th {\n",
       "        vertical-align: top;\n",
       "    }\n",
       "\n",
       "    .dataframe thead th {\n",
       "        text-align: right;\n",
       "    }\n",
       "</style>\n",
       "<table border=\"1\" class=\"dataframe\">\n",
       "  <thead>\n",
       "    <tr style=\"text-align: right;\">\n",
       "      <th></th>\n",
       "      <th>LR</th>\n",
       "      <th>Lasso</th>\n",
       "      <th>Lasso (Scaled)</th>\n",
       "    </tr>\n",
       "  </thead>\n",
       "  <tbody>\n",
       "    <tr>\n",
       "      <th>Train</th>\n",
       "      <td>0.764851</td>\n",
       "      <td>0.764826</td>\n",
       "      <td>0.764241</td>\n",
       "    </tr>\n",
       "    <tr>\n",
       "      <th>Test</th>\n",
       "      <td>0.763689</td>\n",
       "      <td>0.763696</td>\n",
       "      <td>0.763242</td>\n",
       "    </tr>\n",
       "  </tbody>\n",
       "</table>\n",
       "</div>"
      ],
      "text/plain": [
       "             LR     Lasso  Lasso (Scaled)\n",
       "Train  0.764851  0.764826        0.764241\n",
       "Test   0.763689  0.763696        0.763242"
      ]
     },
     "execution_count": 180,
     "metadata": {},
     "output_type": "execute_result"
    }
   ],
   "source": [
    "#Prediction and Performance Evaluation\n",
    "y_pred = lasso_scaled_model.predict(X_test_scaled)\n",
    "r2_test = r2_score(y_test, y_pred)\n",
    "\n",
    "y_pred_train = lasso_scaled_model.predict(X_train_scaled)\n",
    "r2_train = r2_score(y_train, y_pred_train)\n",
    "\n",
    "r2_scores[\"Lasso (Scaled)\"] = [r2_train, r2_test]\n",
    "\n",
    "r2_scores"
   ]
  },
  {
   "cell_type": "code",
   "execution_count": 181,
   "id": "0d30e641",
   "metadata": {},
   "outputs": [
    {
     "name": "stderr",
     "output_type": "stream",
     "text": [
      "/var/folders/2n/y8fl7fr16hs_g_085s9fnpqm0000gn/T/ipykernel_92178/1576320378.py:4: UserWarning: With alpha=0, this algorithm does not converge well. You are advised to use the LinearRegression estimator\n",
      "  my_model = model(alpha = a).fit(X_train, y_train)\n",
      "/Users/sandeepk/opt/anaconda3/lib/python3.8/site-packages/sklearn/linear_model/_coordinate_descent.py:648: UserWarning: Coordinate descent with no regularization may lead to unexpected results and is discouraged.\n",
      "  model = cd_fast.enet_coordinate_descent(\n",
      "/Users/sandeepk/opt/anaconda3/lib/python3.8/site-packages/sklearn/linear_model/_coordinate_descent.py:648: ConvergenceWarning: Objective did not converge. You might want to increase the number of iterations, check the scale of the features or consider increasing regularisation. Duality gap: 3.601e+05, tolerance: 3.063e+02 Linear regression models with null weight for the l1 regularization term are more efficiently fitted using one of the solvers implemented in sklearn.linear_model.Ridge/RidgeCV instead.\n",
      "  model = cd_fast.enet_coordinate_descent(\n"
     ]
    },
    {
     "data": {
      "text/plain": [
       "Train    0.764851\n",
       "Test     0.763689\n",
       "Name: Alpha=0.00, dtype: float64"
      ]
     },
     "execution_count": 181,
     "metadata": {},
     "output_type": "execute_result"
    }
   ],
   "source": [
    "#Optimization of Alpha Parameter\n",
    "optimization(Lasso, X_train_scaled, X_test_scaled, y_train, y_test)"
   ]
  },
  {
   "cell_type": "markdown",
   "id": "29d61b3f",
   "metadata": {},
   "source": [
    "## Ridge Regression"
   ]
  },
  {
   "cell_type": "code",
   "execution_count": 182,
   "id": "2a0e687e",
   "metadata": {},
   "outputs": [],
   "source": [
    "#Model Development\n",
    "from sklearn.linear_model import Ridge\n",
    "ridge_model = Ridge(alpha=1.7).fit(X_train,y_train)"
   ]
  },
  {
   "cell_type": "code",
   "execution_count": 183,
   "id": "9cae20f7",
   "metadata": {},
   "outputs": [
    {
     "data": {
      "text/html": [
       "<div>\n",
       "<style scoped>\n",
       "    .dataframe tbody tr th:only-of-type {\n",
       "        vertical-align: middle;\n",
       "    }\n",
       "\n",
       "    .dataframe tbody tr th {\n",
       "        vertical-align: top;\n",
       "    }\n",
       "\n",
       "    .dataframe thead th {\n",
       "        text-align: right;\n",
       "    }\n",
       "</style>\n",
       "<table border=\"1\" class=\"dataframe\">\n",
       "  <thead>\n",
       "    <tr style=\"text-align: right;\">\n",
       "      <th></th>\n",
       "      <th>LR</th>\n",
       "      <th>Lasso</th>\n",
       "      <th>Lasso (Scaled)</th>\n",
       "      <th>Ridge</th>\n",
       "    </tr>\n",
       "  </thead>\n",
       "  <tbody>\n",
       "    <tr>\n",
       "      <th>Train</th>\n",
       "      <td>0.764851</td>\n",
       "      <td>0.764826</td>\n",
       "      <td>0.764241</td>\n",
       "      <td>0.764851</td>\n",
       "    </tr>\n",
       "    <tr>\n",
       "      <th>Test</th>\n",
       "      <td>0.763689</td>\n",
       "      <td>0.763696</td>\n",
       "      <td>0.763242</td>\n",
       "      <td>0.763689</td>\n",
       "    </tr>\n",
       "  </tbody>\n",
       "</table>\n",
       "</div>"
      ],
      "text/plain": [
       "             LR     Lasso  Lasso (Scaled)     Ridge\n",
       "Train  0.764851  0.764826        0.764241  0.764851\n",
       "Test   0.763689  0.763696        0.763242  0.763689"
      ]
     },
     "execution_count": 183,
     "metadata": {},
     "output_type": "execute_result"
    }
   ],
   "source": [
    "#Prediction and Performance Evaluation\n",
    "y_pred = ridge_model.predict(X_test)\n",
    "r2_test = r2_score(y_test, y_pred)\n",
    "\n",
    "y_pred_train = ridge_model.predict(X_train)\n",
    "r2_train = r2_score(y_train, y_pred_train)\n",
    "\n",
    "r2_scores[\"Ridge\"] = [r2_train, r2_test]\n",
    "\n",
    "r2_scores"
   ]
  },
  {
   "cell_type": "code",
   "execution_count": 184,
   "id": "7035acc7",
   "metadata": {},
   "outputs": [
    {
     "data": {
      "text/plain": [
       "Train    0.764851\n",
       "Test     0.763689\n",
       "Name: Alpha=1.99, dtype: float64"
      ]
     },
     "execution_count": 184,
     "metadata": {},
     "output_type": "execute_result"
    }
   ],
   "source": [
    "optimization(Ridge, X_train, X_test, y_train, y_test)"
   ]
  },
  {
   "cell_type": "markdown",
   "id": "baaadb6b",
   "metadata": {},
   "source": [
    "## Ridge Regression Scaled"
   ]
  },
  {
   "cell_type": "code",
   "execution_count": 185,
   "id": "235cf0c6",
   "metadata": {},
   "outputs": [],
   "source": [
    "#Model development\n",
    "ridge_scaled_model = Ridge(alpha=0.7).fit(X_train_scaled, y_train)"
   ]
  },
  {
   "cell_type": "code",
   "execution_count": 186,
   "id": "332da55f",
   "metadata": {},
   "outputs": [
    {
     "data": {
      "text/html": [
       "<div>\n",
       "<style scoped>\n",
       "    .dataframe tbody tr th:only-of-type {\n",
       "        vertical-align: middle;\n",
       "    }\n",
       "\n",
       "    .dataframe tbody tr th {\n",
       "        vertical-align: top;\n",
       "    }\n",
       "\n",
       "    .dataframe thead th {\n",
       "        text-align: right;\n",
       "    }\n",
       "</style>\n",
       "<table border=\"1\" class=\"dataframe\">\n",
       "  <thead>\n",
       "    <tr style=\"text-align: right;\">\n",
       "      <th></th>\n",
       "      <th>LR</th>\n",
       "      <th>Lasso</th>\n",
       "      <th>Lasso (Scaled)</th>\n",
       "      <th>Ridge</th>\n",
       "      <th>Ridge (Scaled)</th>\n",
       "    </tr>\n",
       "  </thead>\n",
       "  <tbody>\n",
       "    <tr>\n",
       "      <th>Train</th>\n",
       "      <td>0.764851</td>\n",
       "      <td>0.764826</td>\n",
       "      <td>0.764241</td>\n",
       "      <td>0.764851</td>\n",
       "      <td>0.764851</td>\n",
       "    </tr>\n",
       "    <tr>\n",
       "      <th>Test</th>\n",
       "      <td>0.763689</td>\n",
       "      <td>0.763696</td>\n",
       "      <td>0.763242</td>\n",
       "      <td>0.763689</td>\n",
       "      <td>0.763694</td>\n",
       "    </tr>\n",
       "  </tbody>\n",
       "</table>\n",
       "</div>"
      ],
      "text/plain": [
       "             LR     Lasso  Lasso (Scaled)     Ridge  Ridge (Scaled)\n",
       "Train  0.764851  0.764826        0.764241  0.764851        0.764851\n",
       "Test   0.763689  0.763696        0.763242  0.763689        0.763694"
      ]
     },
     "execution_count": 186,
     "metadata": {},
     "output_type": "execute_result"
    }
   ],
   "source": [
    "#Prediction and Performance Evaluation\n",
    "y_pred = ridge_scaled_model.predict(X_test_scaled)\n",
    "r2_test = r2_score(y_test, y_pred)\n",
    "\n",
    "y_pred_train = ridge_scaled_model.predict(X_train_scaled)\n",
    "r2_train = r2_score(y_train, y_pred_train)\n",
    "\n",
    "r2_scores[\"Ridge (Scaled)\"] = [r2_train, r2_test]\n",
    "\n",
    "r2_scores"
   ]
  },
  {
   "cell_type": "code",
   "execution_count": 188,
   "id": "f635e916",
   "metadata": {},
   "outputs": [
    {
     "data": {
      "text/plain": [
       "Train    0.764850\n",
       "Test     0.763701\n",
       "Name: Alpha=1.99, dtype: float64"
      ]
     },
     "execution_count": 188,
     "metadata": {},
     "output_type": "execute_result"
    }
   ],
   "source": [
    "optimization(Ridge, X_train_scaled, X_test_scaled, y_train, y_test)"
   ]
  },
  {
   "cell_type": "markdown",
   "id": "1972bf19",
   "metadata": {},
   "source": [
    "## Polynomial Regression"
   ]
  },
  {
   "cell_type": "code",
   "execution_count": 191,
   "id": "b316f525",
   "metadata": {},
   "outputs": [],
   "source": [
    "#Model Development\n",
    "from sklearn.preprocessing import PolynomialFeatures\n",
    "\n",
    "poly = PolynomialFeatures(degree = 2)\n",
    "\n",
    "x_poly = poly.fit_transform(x)\n",
    "\n",
    "X_train, X_test, y_train, y_test = train_test_split(x_poly, y, test_size = 0.25,\n",
    "                                                    random_state = 0)\n"
   ]
  },
  {
   "cell_type": "code",
   "execution_count": 192,
   "id": "efc6731c",
   "metadata": {},
   "outputs": [
    {
     "data": {
      "text/html": [
       "<div>\n",
       "<style scoped>\n",
       "    .dataframe tbody tr th:only-of-type {\n",
       "        vertical-align: middle;\n",
       "    }\n",
       "\n",
       "    .dataframe tbody tr th {\n",
       "        vertical-align: top;\n",
       "    }\n",
       "\n",
       "    .dataframe thead th {\n",
       "        text-align: right;\n",
       "    }\n",
       "</style>\n",
       "<table border=\"1\" class=\"dataframe\">\n",
       "  <thead>\n",
       "    <tr style=\"text-align: right;\">\n",
       "      <th></th>\n",
       "      <th>LR</th>\n",
       "      <th>Lasso</th>\n",
       "      <th>Lasso (Scaled)</th>\n",
       "      <th>Ridge</th>\n",
       "      <th>Ridge (Scaled)</th>\n",
       "      <th>Poly2 LR</th>\n",
       "    </tr>\n",
       "  </thead>\n",
       "  <tbody>\n",
       "    <tr>\n",
       "      <th>Train</th>\n",
       "      <td>0.764851</td>\n",
       "      <td>0.764826</td>\n",
       "      <td>0.764241</td>\n",
       "      <td>0.764851</td>\n",
       "      <td>0.764851</td>\n",
       "      <td>0.838767</td>\n",
       "    </tr>\n",
       "    <tr>\n",
       "      <th>Test</th>\n",
       "      <td>0.763689</td>\n",
       "      <td>0.763696</td>\n",
       "      <td>0.763242</td>\n",
       "      <td>0.763689</td>\n",
       "      <td>0.763694</td>\n",
       "      <td>0.836108</td>\n",
       "    </tr>\n",
       "  </tbody>\n",
       "</table>\n",
       "</div>"
      ],
      "text/plain": [
       "             LR     Lasso  Lasso (Scaled)     Ridge  Ridge (Scaled)  Poly2 LR\n",
       "Train  0.764851  0.764826        0.764241  0.764851        0.764851  0.838767\n",
       "Test   0.763689  0.763696        0.763242  0.763689        0.763694  0.836108"
      ]
     },
     "execution_count": 192,
     "metadata": {},
     "output_type": "execute_result"
    }
   ],
   "source": [
    "#Prediction and Performance Evaluation\n",
    "lr_poly_model = LinearRegression().fit(X_train, y_train)\n",
    "\n",
    "y_pred = lr_poly_model.predict(X_test)\n",
    "r2_test = r2_score(y_test, y_pred)\n",
    "\n",
    "y_pred_train = lr_poly_model.predict(X_train)\n",
    "\n",
    "r2_train = r2_score(y_train, y_pred_train)\n",
    "\n",
    "r2_scores[\"Poly2 LR\"] = [r2_train, r2_test]\n",
    "\n",
    "r2_scores\n"
   ]
  },
  {
   "cell_type": "markdown",
   "id": "83205ca2",
   "metadata": {},
   "source": [
    "## KNN\n",
    "- Predict Wind Direction "
   ]
  },
  {
   "cell_type": "code",
   "execution_count": 77,
   "id": "618e2114",
   "metadata": {},
   "outputs": [
    {
     "data": {
      "text/plain": [
       "array(['NNW', 'NW', 'N', 'W', 'ENE', 'NE', 'E', 'NNE', 'SW', 'SSW', 'S',\n",
       "       'WSW', 'ESE', 'SE', 'WNW', 'SSE'], dtype=object)"
      ]
     },
     "execution_count": 77,
     "metadata": {},
     "output_type": "execute_result"
    }
   ],
   "source": [
    "df2 = df.copy()\n",
    "df2['wd'].unique()"
   ]
  },
  {
   "cell_type": "code",
   "execution_count": 78,
   "id": "ad3f1cfd",
   "metadata": {},
   "outputs": [],
   "source": [
    "#Cut Dataset to (N,S,E,W,NW,NE,SE,SW)\n",
    "\n",
    "#Categorize Wind Direction\n",
    "conditions = conditions = [\n",
    "    (df2['wd'] == 'N'),\n",
    "    #(df2['wd'] == 'NW'),\n",
    "    #(df2['wd'] == 'NE'),\n",
    "    (df2['wd'] == 'W'),\n",
    "    (df2['wd'] == 'E'),\n",
    "    (df2['wd'] == 'S'),\n",
    "    #(df2['wd'] == 'SW'),\n",
    "    #(df2['wd'] == 'SE'),\n",
    "]\n",
    "\n",
    "values = [0,1,2,3]\n",
    "df2[\"Wind_Direction\"] = np.select(conditions,values)\n",
    "   \n",
    "#x= ['N','S','E','W','NW','NE','SE','SW']\n",
    "x= ['N','S','E','W']\n",
    "df2 = df2[df2.wd.isin(x)]"
   ]
  },
  {
   "cell_type": "code",
   "execution_count": 79,
   "id": "13de2c18",
   "metadata": {},
   "outputs": [
    {
     "data": {
      "text/html": [
       "<div>\n",
       "<style scoped>\n",
       "    .dataframe tbody tr th:only-of-type {\n",
       "        vertical-align: middle;\n",
       "    }\n",
       "\n",
       "    .dataframe tbody tr th {\n",
       "        vertical-align: top;\n",
       "    }\n",
       "\n",
       "    .dataframe thead th {\n",
       "        text-align: right;\n",
       "    }\n",
       "</style>\n",
       "<table border=\"1\" class=\"dataframe\">\n",
       "  <thead>\n",
       "    <tr style=\"text-align: right;\">\n",
       "      <th></th>\n",
       "      <th>No</th>\n",
       "      <th>year</th>\n",
       "      <th>month</th>\n",
       "      <th>day</th>\n",
       "      <th>hour</th>\n",
       "      <th>PM2.5</th>\n",
       "      <th>PM10</th>\n",
       "      <th>SO2</th>\n",
       "      <th>NO2</th>\n",
       "      <th>CO</th>\n",
       "      <th>O3</th>\n",
       "      <th>TEMP</th>\n",
       "      <th>PRES</th>\n",
       "      <th>DEWP</th>\n",
       "      <th>RAIN</th>\n",
       "      <th>WSPM</th>\n",
       "      <th>Wind_Direction</th>\n",
       "    </tr>\n",
       "  </thead>\n",
       "  <tbody>\n",
       "    <tr>\n",
       "      <th>Wind_Direction</th>\n",
       "      <td>0.035954</td>\n",
       "      <td>0.024196</td>\n",
       "      <td>0.04344</td>\n",
       "      <td>0.021383</td>\n",
       "      <td>0.097076</td>\n",
       "      <td>0.178994</td>\n",
       "      <td>0.170022</td>\n",
       "      <td>0.113657</td>\n",
       "      <td>0.085493</td>\n",
       "      <td>0.139015</td>\n",
       "      <td>0.184255</td>\n",
       "      <td>0.19562</td>\n",
       "      <td>-0.171244</td>\n",
       "      <td>0.245837</td>\n",
       "      <td>-0.006985</td>\n",
       "      <td>-0.172133</td>\n",
       "      <td>1.0</td>\n",
       "    </tr>\n",
       "  </tbody>\n",
       "</table>\n",
       "</div>"
      ],
      "text/plain": [
       "                      No      year    month       day      hour     PM2.5  \\\n",
       "Wind_Direction  0.035954  0.024196  0.04344  0.021383  0.097076  0.178994   \n",
       "\n",
       "                    PM10       SO2       NO2        CO        O3     TEMP  \\\n",
       "Wind_Direction  0.170022  0.113657  0.085493  0.139015  0.184255  0.19562   \n",
       "\n",
       "                    PRES      DEWP      RAIN      WSPM  Wind_Direction  \n",
       "Wind_Direction -0.171244  0.245837 -0.006985 -0.172133             1.0  "
      ]
     },
     "execution_count": 79,
     "metadata": {},
     "output_type": "execute_result"
    }
   ],
   "source": [
    "#Correlation Matrix\n",
    "corr = df2.corr()\n",
    "\n",
    "corr.loc[['Wind_Direction']]"
   ]
  },
  {
   "cell_type": "code",
   "execution_count": 80,
   "id": "0a672e5a",
   "metadata": {},
   "outputs": [],
   "source": [
    "x = df2[['TEMP', 'WSPM', 'hour']]\n",
    "y = df2[\"Wind_Direction\"]\n",
    "\n",
    "#Split Data \n",
    "from sklearn.model_selection import train_test_split\n",
    "\n",
    "X_train, X_test, y_train, y_test = train_test_split(x, y, test_size = 0.20, random_state = 0)"
   ]
  },
  {
   "cell_type": "code",
   "execution_count": 81,
   "id": "c60f71f1",
   "metadata": {},
   "outputs": [],
   "source": [
    "#Scale to Uniformally Evaluate\n",
    "from sklearn.preprocessing import StandardScaler\n",
    "scaler = StandardScaler()\n",
    "\n",
    "X_train_scaled = scaler.fit_transform(X_train)\n",
    "X_test_scaled = scaler.transform(X_test)"
   ]
  },
  {
   "cell_type": "code",
   "execution_count": 82,
   "id": "6f516d6d",
   "metadata": {},
   "outputs": [
    {
     "data": {
      "text/html": [
       "<style>#sk-container-id-6 {color: black;background-color: white;}#sk-container-id-6 pre{padding: 0;}#sk-container-id-6 div.sk-toggleable {background-color: white;}#sk-container-id-6 label.sk-toggleable__label {cursor: pointer;display: block;width: 100%;margin-bottom: 0;padding: 0.3em;box-sizing: border-box;text-align: center;}#sk-container-id-6 label.sk-toggleable__label-arrow:before {content: \"▸\";float: left;margin-right: 0.25em;color: #696969;}#sk-container-id-6 label.sk-toggleable__label-arrow:hover:before {color: black;}#sk-container-id-6 div.sk-estimator:hover label.sk-toggleable__label-arrow:before {color: black;}#sk-container-id-6 div.sk-toggleable__content {max-height: 0;max-width: 0;overflow: hidden;text-align: left;background-color: #f0f8ff;}#sk-container-id-6 div.sk-toggleable__content pre {margin: 0.2em;color: black;border-radius: 0.25em;background-color: #f0f8ff;}#sk-container-id-6 input.sk-toggleable__control:checked~div.sk-toggleable__content {max-height: 200px;max-width: 100%;overflow: auto;}#sk-container-id-6 input.sk-toggleable__control:checked~label.sk-toggleable__label-arrow:before {content: \"▾\";}#sk-container-id-6 div.sk-estimator input.sk-toggleable__control:checked~label.sk-toggleable__label {background-color: #d4ebff;}#sk-container-id-6 div.sk-label input.sk-toggleable__control:checked~label.sk-toggleable__label {background-color: #d4ebff;}#sk-container-id-6 input.sk-hidden--visually {border: 0;clip: rect(1px 1px 1px 1px);clip: rect(1px, 1px, 1px, 1px);height: 1px;margin: -1px;overflow: hidden;padding: 0;position: absolute;width: 1px;}#sk-container-id-6 div.sk-estimator {font-family: monospace;background-color: #f0f8ff;border: 1px dotted black;border-radius: 0.25em;box-sizing: border-box;margin-bottom: 0.5em;}#sk-container-id-6 div.sk-estimator:hover {background-color: #d4ebff;}#sk-container-id-6 div.sk-parallel-item::after {content: \"\";width: 100%;border-bottom: 1px solid gray;flex-grow: 1;}#sk-container-id-6 div.sk-label:hover label.sk-toggleable__label {background-color: #d4ebff;}#sk-container-id-6 div.sk-serial::before {content: \"\";position: absolute;border-left: 1px solid gray;box-sizing: border-box;top: 0;bottom: 0;left: 50%;z-index: 0;}#sk-container-id-6 div.sk-serial {display: flex;flex-direction: column;align-items: center;background-color: white;padding-right: 0.2em;padding-left: 0.2em;position: relative;}#sk-container-id-6 div.sk-item {position: relative;z-index: 1;}#sk-container-id-6 div.sk-parallel {display: flex;align-items: stretch;justify-content: center;background-color: white;position: relative;}#sk-container-id-6 div.sk-item::before, #sk-container-id-6 div.sk-parallel-item::before {content: \"\";position: absolute;border-left: 1px solid gray;box-sizing: border-box;top: 0;bottom: 0;left: 50%;z-index: -1;}#sk-container-id-6 div.sk-parallel-item {display: flex;flex-direction: column;z-index: 1;position: relative;background-color: white;}#sk-container-id-6 div.sk-parallel-item:first-child::after {align-self: flex-end;width: 50%;}#sk-container-id-6 div.sk-parallel-item:last-child::after {align-self: flex-start;width: 50%;}#sk-container-id-6 div.sk-parallel-item:only-child::after {width: 0;}#sk-container-id-6 div.sk-dashed-wrapped {border: 1px dashed gray;margin: 0 0.4em 0.5em 0.4em;box-sizing: border-box;padding-bottom: 0.4em;background-color: white;}#sk-container-id-6 div.sk-label label {font-family: monospace;font-weight: bold;display: inline-block;line-height: 1.2em;}#sk-container-id-6 div.sk-label-container {text-align: center;}#sk-container-id-6 div.sk-container {/* jupyter's `normalize.less` sets `[hidden] { display: none; }` but bootstrap.min.css set `[hidden] { display: none !important; }` so we also need the `!important` here to be able to override the default hidden behavior on the sphinx rendered scikit-learn.org. See: https://github.com/scikit-learn/scikit-learn/issues/21755 */display: inline-block !important;position: relative;}#sk-container-id-6 div.sk-text-repr-fallback {display: none;}</style><div id=\"sk-container-id-6\" class=\"sk-top-container\"><div class=\"sk-text-repr-fallback\"><pre>KNeighborsClassifier(n_neighbors=22)</pre><b>In a Jupyter environment, please rerun this cell to show the HTML representation or trust the notebook. <br />On GitHub, the HTML representation is unable to render, please try loading this page with nbviewer.org.</b></div><div class=\"sk-container\" hidden><div class=\"sk-item\"><div class=\"sk-estimator sk-toggleable\"><input class=\"sk-toggleable__control sk-hidden--visually\" id=\"sk-estimator-id-6\" type=\"checkbox\" checked><label for=\"sk-estimator-id-6\" class=\"sk-toggleable__label sk-toggleable__label-arrow\">KNeighborsClassifier</label><div class=\"sk-toggleable__content\"><pre>KNeighborsClassifier(n_neighbors=22)</pre></div></div></div></div></div>"
      ],
      "text/plain": [
       "KNeighborsClassifier(n_neighbors=22)"
      ]
     },
     "execution_count": 82,
     "metadata": {},
     "output_type": "execute_result"
    }
   ],
   "source": [
    "#Develop KNN model\n",
    "from sklearn.neighbors import KNeighborsClassifier\n",
    "KNN_Wind = KNeighborsClassifier(n_neighbors = 22)   # k = n_neighbors. k = 5 is a common value to start with\n",
    "KNN_Wind.fit(X_train_scaled, y_train)"
   ]
  },
  {
   "cell_type": "code",
   "execution_count": 83,
   "id": "748e7a42",
   "metadata": {},
   "outputs": [
    {
     "data": {
      "text/plain": [
       "0.5726937269372694"
      ]
     },
     "execution_count": 83,
     "metadata": {},
     "output_type": "execute_result"
    }
   ],
   "source": [
    "#Prediction and Performance Evaluation on Test\n",
    "knn score = KNN_Wind.score(X_test_scaled, y_test)\n",
    "print(\"Accuracy Score:\", knn_score)"
   ]
  },
  {
   "cell_type": "code",
   "execution_count": 76,
   "id": "dcab9da0",
   "metadata": {},
   "outputs": [
    {
     "name": "stdout",
     "output_type": "stream",
     "text": [
      "Optimal n: 22\n",
      "Accuracy Score: 0.5726937269372694\n"
     ]
    }
   ],
   "source": [
    "#optimize n value\n",
    "\n",
    "def knn_optimization(n):\n",
    "    optimization_df = pd.DataFrame()\n",
    "    lst=[]\n",
    "    for k in range(1,n+1):\n",
    "        KNN_Wind = KNeighborsClassifier(n_neighbors = k)\n",
    "        KNN_Wind.fit(X_train_scaled, y_train)\n",
    "        lst.append(KNN_Wind.score(X_test_scaled, y_test))\n",
    "    print(\"Optimal n:\", lst.index(max(lst))+1)\n",
    "    print(\"Accuracy Score:\", lst[lst.index(max(lst))])\n",
    "    \n",
    "knn_optimization(30)"
   ]
  },
  {
   "cell_type": "code",
   "execution_count": 75,
   "id": "27ed712f",
   "metadata": {},
   "outputs": [
    {
     "data": {
      "image/png": "[encoded data removed]",
      "text/plain": [
       "<Figure size 864x432 with 1 Axes>"
      ]
     },
     "metadata": {},
     "output_type": "display_data"
    },
    {
     "data": {
      "text/plain": [
       "3"
      ]
     },
     "execution_count": 75,
     "metadata": {},
     "output_type": "execute_result"
    }
   ],
   "source": [
    "#Visualization of errors and optimized K Value\n",
    "error = []\n",
    "\n",
    "# calculate the error for k values between 1 and 40\n",
    "for i in range(1, 26):\n",
    "    knn = KNeighborsClassifier(n_neighbors = i)\n",
    "    knn.fit(X_train_scaled, y_train)\n",
    "    pred_y_i = knn.predict(X_test_scaled)\n",
    "    error.append(np.mean(pred_y_i != y_test))\n",
    "    \n",
    "    \n",
    "# Now, we can plot the errors\n",
    "plt.figure(figsize = (12, 6))\n",
    "plt.plot(range(1, 26), error, color = 'red', linestyle = 'dashed', marker = 'o',\n",
    "        markerfacecolor = 'green', markersize = 10)\n",
    "\n",
    "plt.title('Error Rates for different k-values')\n",
    "plt.xlabel('k-value')\n",
    "plt.ylabel('Mean Error')\n",
    "plt.show()\n",
    "\n",
    "lst = [1,3,4,2]\n",
    "lst.index(max(lst))+1\n",
    "#lst[lst.index(max(lst))]"
   ]
  },
  {
   "cell_type": "code",
   "execution_count": 21,
   "id": "39c64ea6",
   "metadata": {},
   "outputs": [
    {
     "name": "stdout",
     "output_type": "stream",
     "text": [
      "Enter Temperature: 1.5\n",
      "Enter Wind Speed: 2.4\n",
      "Enter Hour: 19\n",
      "North\n"
     ]
    }
   ],
   "source": [
    "#User Prediction\n",
    "\n",
    "temp = float(input(\"Enter Temperature: \"))\n",
    "unknown.append(temp)\n",
    "\n",
    "wspm = float(input(\"Enter Wind Speed: \"))\n",
    "unknown.append(wspm)\n",
    "\n",
    "hour = int(input(\"Enter Hour: \"))\n",
    "unknown.append(hour)\n",
    "\n",
    "unknown = [[temp, wspm, hour]]\n",
    "\n",
    "print()\n",
    "wind_prediction = KNN_Wind.predict(unknown)\n",
    "\n",
    "if wind_prediction[0] == 0:\n",
    "    print('North')\n",
    "if wind_prediction[0] == 1:\n",
    "    print('South')\n",
    "if wind_prediction[0] == 2:\n",
    "    print('East')\n",
    "if wind_prediction[0] == 3:\n",
    "    print('West')\n",
    "    \n",
    "#fruit_prediction[0]"
   ]
  },
  {
   "cell_type": "markdown",
   "id": "5943f3dd",
   "metadata": {},
   "source": [
    "## Logistic Regression\n",
    "- Predict Rainfall"
   ]
  },
  {
   "cell_type": "code",
   "execution_count": 196,
   "id": "e18703be",
   "metadata": {},
   "outputs": [],
   "source": [
    "df3 = df.copy()\n",
    "\n",
    "#Clean Rain column and convert to binary\n",
    "df3['RAIN'].replace(0, np.nan, inplace=True)\n",
    "\n",
    "conditions = [\n",
    "    (df3['RAIN'].isna() == True),\n",
    "    (df3['RAIN'].isna() == False),\n",
    "]\n",
    "\n",
    "values = [0,1]\n",
    "\n",
    "df3['Rain'] = np.select(conditions,values)"
   ]
  },
  {
   "cell_type": "code",
   "execution_count": 197,
   "id": "25555ddf",
   "metadata": {},
   "outputs": [
    {
     "data": {
      "text/plain": [
       "<AxesSubplot:xlabel='DEWP', ylabel='Rain'>"
      ]
     },
     "execution_count": 197,
     "metadata": {},
     "output_type": "execute_result"
    },
    {
     "data": {
      "image/png": "[encoded data removed]",
      "text/plain": [
       "<Figure size 432x288 with 1 Axes>"
      ]
     },
     "metadata": {},
     "output_type": "display_data"
    }
   ],
   "source": [
    "#VISUALIZATION\n",
    "x = df3[[\"DEWP\"]]\n",
    "y = df3[\"Rain\"]\n",
    "\n",
    "sb.regplot(x=x, y=y, data=df3, logistic=True, ci=None)"
   ]
  },
  {
   "cell_type": "code",
   "execution_count": 198,
   "id": "06055f0e",
   "metadata": {},
   "outputs": [
    {
     "data": {
      "text/html": [
       "<style>#sk-container-id-7 {color: black;background-color: white;}#sk-container-id-7 pre{padding: 0;}#sk-container-id-7 div.sk-toggleable {background-color: white;}#sk-container-id-7 label.sk-toggleable__label {cursor: pointer;display: block;width: 100%;margin-bottom: 0;padding: 0.3em;box-sizing: border-box;text-align: center;}#sk-container-id-7 label.sk-toggleable__label-arrow:before {content: \"▸\";float: left;margin-right: 0.25em;color: #696969;}#sk-container-id-7 label.sk-toggleable__label-arrow:hover:before {color: black;}#sk-container-id-7 div.sk-estimator:hover label.sk-toggleable__label-arrow:before {color: black;}#sk-container-id-7 div.sk-toggleable__content {max-height: 0;max-width: 0;overflow: hidden;text-align: left;background-color: #f0f8ff;}#sk-container-id-7 div.sk-toggleable__content pre {margin: 0.2em;color: black;border-radius: 0.25em;background-color: #f0f8ff;}#sk-container-id-7 input.sk-toggleable__control:checked~div.sk-toggleable__content {max-height: 200px;max-width: 100%;overflow: auto;}#sk-container-id-7 input.sk-toggleable__control:checked~label.sk-toggleable__label-arrow:before {content: \"▾\";}#sk-container-id-7 div.sk-estimator input.sk-toggleable__control:checked~label.sk-toggleable__label {background-color: #d4ebff;}#sk-container-id-7 div.sk-label input.sk-toggleable__control:checked~label.sk-toggleable__label {background-color: #d4ebff;}#sk-container-id-7 input.sk-hidden--visually {border: 0;clip: rect(1px 1px 1px 1px);clip: rect(1px, 1px, 1px, 1px);height: 1px;margin: -1px;overflow: hidden;padding: 0;position: absolute;width: 1px;}#sk-container-id-7 div.sk-estimator {font-family: monospace;background-color: #f0f8ff;border: 1px dotted black;border-radius: 0.25em;box-sizing: border-box;margin-bottom: 0.5em;}#sk-container-id-7 div.sk-estimator:hover {background-color: #d4ebff;}#sk-container-id-7 div.sk-parallel-item::after {content: \"\";width: 100%;border-bottom: 1px solid gray;flex-grow: 1;}#sk-container-id-7 div.sk-label:hover label.sk-toggleable__label {background-color: #d4ebff;}#sk-container-id-7 div.sk-serial::before {content: \"\";position: absolute;border-left: 1px solid gray;box-sizing: border-box;top: 0;bottom: 0;left: 50%;z-index: 0;}#sk-container-id-7 div.sk-serial {display: flex;flex-direction: column;align-items: center;background-color: white;padding-right: 0.2em;padding-left: 0.2em;position: relative;}#sk-container-id-7 div.sk-item {position: relative;z-index: 1;}#sk-container-id-7 div.sk-parallel {display: flex;align-items: stretch;justify-content: center;background-color: white;position: relative;}#sk-container-id-7 div.sk-item::before, #sk-container-id-7 div.sk-parallel-item::before {content: \"\";position: absolute;border-left: 1px solid gray;box-sizing: border-box;top: 0;bottom: 0;left: 50%;z-index: -1;}#sk-container-id-7 div.sk-parallel-item {display: flex;flex-direction: column;z-index: 1;position: relative;background-color: white;}#sk-container-id-7 div.sk-parallel-item:first-child::after {align-self: flex-end;width: 50%;}#sk-container-id-7 div.sk-parallel-item:last-child::after {align-self: flex-start;width: 50%;}#sk-container-id-7 div.sk-parallel-item:only-child::after {width: 0;}#sk-container-id-7 div.sk-dashed-wrapped {border: 1px dashed gray;margin: 0 0.4em 0.5em 0.4em;box-sizing: border-box;padding-bottom: 0.4em;background-color: white;}#sk-container-id-7 div.sk-label label {font-family: monospace;font-weight: bold;display: inline-block;line-height: 1.2em;}#sk-container-id-7 div.sk-label-container {text-align: center;}#sk-container-id-7 div.sk-container {/* jupyter's `normalize.less` sets `[hidden] { display: none; }` but bootstrap.min.css set `[hidden] { display: none !important; }` so we also need the `!important` here to be able to override the default hidden behavior on the sphinx rendered scikit-learn.org. See: https://github.com/scikit-learn/scikit-learn/issues/21755 */display: inline-block !important;position: relative;}#sk-container-id-7 div.sk-text-repr-fallback {display: none;}</style><div id=\"sk-container-id-7\" class=\"sk-top-container\"><div class=\"sk-text-repr-fallback\"><pre>LogisticRegression()</pre><b>In a Jupyter environment, please rerun this cell to show the HTML representation or trust the notebook. <br />On GitHub, the HTML representation is unable to render, please try loading this page with nbviewer.org.</b></div><div class=\"sk-container\" hidden><div class=\"sk-item\"><div class=\"sk-estimator sk-toggleable\"><input class=\"sk-toggleable__control sk-hidden--visually\" id=\"sk-estimator-id-7\" type=\"checkbox\" checked><label for=\"sk-estimator-id-7\" class=\"sk-toggleable__label sk-toggleable__label-arrow\">LogisticRegression</label><div class=\"sk-toggleable__content\"><pre>LogisticRegression()</pre></div></div></div></div></div>"
      ],
      "text/plain": [
       "LogisticRegression()"
      ]
     },
     "execution_count": 198,
     "metadata": {},
     "output_type": "execute_result"
    }
   ],
   "source": [
    "#split x and y into training and testing sets (75/25)\n",
    "\n",
    "X_train, X_test, y_train, y_test = SPLIT(x, y, test_size = 0.25, random_state = 0)\n",
    "\n",
    "from sklearn.linear_model import LogisticRegression\n",
    "log_model = LogisticRegression()\n",
    "\n",
    "log_model.fit(X_train, y_train)"
   ]
  },
  {
   "cell_type": "code",
   "execution_count": 199,
   "id": "d8411c5c",
   "metadata": {},
   "outputs": [
    {
     "data": {
      "text/html": [
       "<div>\n",
       "<style scoped>\n",
       "    .dataframe tbody tr th:only-of-type {\n",
       "        vertical-align: middle;\n",
       "    }\n",
       "\n",
       "    .dataframe tbody tr th {\n",
       "        vertical-align: top;\n",
       "    }\n",
       "\n",
       "    .dataframe thead th {\n",
       "        text-align: right;\n",
       "    }\n",
       "</style>\n",
       "<table border=\"1\" class=\"dataframe\">\n",
       "  <thead>\n",
       "    <tr style=\"text-align: right;\">\n",
       "      <th></th>\n",
       "      <th>Logistic</th>\n",
       "    </tr>\n",
       "  </thead>\n",
       "  <tbody>\n",
       "    <tr>\n",
       "      <th>Train</th>\n",
       "      <td>0.963477</td>\n",
       "    </tr>\n",
       "    <tr>\n",
       "      <th>Test</th>\n",
       "      <td>0.959525</td>\n",
       "    </tr>\n",
       "  </tbody>\n",
       "</table>\n",
       "</div>"
      ],
      "text/plain": [
       "       Logistic\n",
       "Train  0.963477\n",
       "Test   0.959525"
      ]
     },
     "execution_count": 199,
     "metadata": {},
     "output_type": "execute_result"
    }
   ],
   "source": [
    "#Prediction and Performance Evaluation\n",
    "y_pred = log_model.predict(X_test)\n",
    "\n",
    "y_pred_train = log_model.predict(X_train)\n",
    "\n",
    "from sklearn import metrics\n",
    "\n",
    "log_score = pd.DataFrame()\n",
    "\n",
    "test_score = metrics.accuracy_score(y_test, y_pred)\n",
    "\n",
    "train_score = metrics.accuracy_score(y_train, y_pred_train)\n",
    "\n",
    "log_score['Logistic'] = [train_score, test_score]\n",
    "log_score.rename(index = {0: \"Train\", 1:\"Test\"}, inplace = True)\n",
    "\n",
    "log_score"
   ]
  },
  {
   "cell_type": "code",
   "execution_count": 200,
   "id": "89dd4d97",
   "metadata": {},
   "outputs": [
    {
     "name": "stdout",
     "output_type": "stream",
     "text": [
      "Enter Temperature: 100\n",
      "Rain\n"
     ]
    },
    {
     "name": "stderr",
     "output_type": "stream",
     "text": [
      "/Users/sandeepk/opt/anaconda3/lib/python3.8/site-packages/sklearn/base.py:450: UserWarning: X does not have valid feature names, but LogisticRegression was fitted with feature names\n",
      "  warnings.warn(\n"
     ]
    }
   ],
   "source": [
    "#User input?\n",
    "choice = float(input(\"Enter Temperature: \"))\n",
    "pred = log_model.predict([[choice]])\n",
    "\n",
    "if pred[0] == 0:\n",
    "    print(\"No Rain\")\n",
    "else:\n",
    "    print(\"Rain\")"
   ]
  },
  {
   "cell_type": "markdown",
   "id": "fecab9a8",
   "metadata": {},
   "source": [
    "## SVM\n",
    "- Predict Rainfall Uutilizing Temperature Features"
   ]
  },
  {
   "cell_type": "code",
   "execution_count": 201,
   "id": "99d710fa",
   "metadata": {},
   "outputs": [
    {
     "data": {
      "image/png": "[encoded data removed]",
      "text/plain": [
       "<Figure size 576x432 with 1 Axes>"
      ]
     },
     "metadata": {},
     "output_type": "display_data"
    }
   ],
   "source": [
    "no_rain = df3[df3[\"Rain\"]==0]\n",
    "rain = df3[df3[\"Rain\"]==1]\n",
    "\n",
    "no_rain_x = no_rain[\"TEMP\"]\n",
    "no_rain_y = no_rain[\"WSPM\"]\n",
    "\n",
    "rain_x = rain[\"TEMP\"]\n",
    "rain_y = rain[\"WSPM\"]\n",
    "\n",
    "plt.figure(figsize = (8,6))\n",
    "plt.scatter(no_rain_x, no_rain_y, marker = '*', color = 'red')\n",
    "plt.scatter(rain_x, rain_y, marker = 'o', color = 'blue')\n",
    "plt.show()\n",
    "\n",
    "#Map to Higher Dimension using Kernel Trick"
   ]
  },
  {
   "cell_type": "code",
   "execution_count": 22,
   "id": "b4b8b926",
   "metadata": {},
   "outputs": [],
   "source": [
    "#Dropna to fit into SVM\n",
    "df3.dropna(subset=[\"TEMP\",\"WSPM\"],inplace=True)"
   ]
  },
  {
   "cell_type": "code",
   "execution_count": 6,
   "id": "fba810d0",
   "metadata": {},
   "outputs": [
    {
     "data": {
      "text/plain": [
       "0"
      ]
     },
     "execution_count": 6,
     "metadata": {},
     "output_type": "execute_result"
    }
   ],
   "source": [
    "sum(df3['TEMP'].isna())"
   ]
  },
  {
   "cell_type": "code",
   "execution_count": 23,
   "id": "fafb50a6",
   "metadata": {},
   "outputs": [],
   "source": [
    "x = df3[[\"TEMP\",\"WSPM\"]]\n",
    "y = df3[\"Rain\"]\n",
    "\n",
    "#Split Data into Training and Testing (80/20)\n",
    "from sklearn.model_selection import train_test_split as SPLIT\n",
    "\n",
    "X_train, X_test, y_train, y_test = SPLIT(x, y, test_size = 0.20, random_state = 0)"
   ]
  },
  {
   "cell_type": "code",
   "execution_count": 24,
   "id": "e25e3556",
   "metadata": {},
   "outputs": [],
   "source": [
    "from sklearn.preprocessing import StandardScaler\n",
    "scaler = StandardScaler()\n",
    "scaler.fit(X_train)\n",
    "\n",
    "x_train_scaled = scaler.transform(X_train)\n",
    "x_test_scaled = scaler.transform(X_test)"
   ]
  },
  {
   "cell_type": "code",
   "execution_count": 25,
   "id": "c2620476",
   "metadata": {},
   "outputs": [
    {
     "data": {
      "text/html": [
       "<style>#sk-container-id-3 {color: black;background-color: white;}#sk-container-id-3 pre{padding: 0;}#sk-container-id-3 div.sk-toggleable {background-color: white;}#sk-container-id-3 label.sk-toggleable__label {cursor: pointer;display: block;width: 100%;margin-bottom: 0;padding: 0.3em;box-sizing: border-box;text-align: center;}#sk-container-id-3 label.sk-toggleable__label-arrow:before {content: \"▸\";float: left;margin-right: 0.25em;color: #696969;}#sk-container-id-3 label.sk-toggleable__label-arrow:hover:before {color: black;}#sk-container-id-3 div.sk-estimator:hover label.sk-toggleable__label-arrow:before {color: black;}#sk-container-id-3 div.sk-toggleable__content {max-height: 0;max-width: 0;overflow: hidden;text-align: left;background-color: #f0f8ff;}#sk-container-id-3 div.sk-toggleable__content pre {margin: 0.2em;color: black;border-radius: 0.25em;background-color: #f0f8ff;}#sk-container-id-3 input.sk-toggleable__control:checked~div.sk-toggleable__content {max-height: 200px;max-width: 100%;overflow: auto;}#sk-container-id-3 input.sk-toggleable__control:checked~label.sk-toggleable__label-arrow:before {content: \"▾\";}#sk-container-id-3 div.sk-estimator input.sk-toggleable__control:checked~label.sk-toggleable__label {background-color: #d4ebff;}#sk-container-id-3 div.sk-label input.sk-toggleable__control:checked~label.sk-toggleable__label {background-color: #d4ebff;}#sk-container-id-3 input.sk-hidden--visually {border: 0;clip: rect(1px 1px 1px 1px);clip: rect(1px, 1px, 1px, 1px);height: 1px;margin: -1px;overflow: hidden;padding: 0;position: absolute;width: 1px;}#sk-container-id-3 div.sk-estimator {font-family: monospace;background-color: #f0f8ff;border: 1px dotted black;border-radius: 0.25em;box-sizing: border-box;margin-bottom: 0.5em;}#sk-container-id-3 div.sk-estimator:hover {background-color: #d4ebff;}#sk-container-id-3 div.sk-parallel-item::after {content: \"\";width: 100%;border-bottom: 1px solid gray;flex-grow: 1;}#sk-container-id-3 div.sk-label:hover label.sk-toggleable__label {background-color: #d4ebff;}#sk-container-id-3 div.sk-serial::before {content: \"\";position: absolute;border-left: 1px solid gray;box-sizing: border-box;top: 0;bottom: 0;left: 50%;z-index: 0;}#sk-container-id-3 div.sk-serial {display: flex;flex-direction: column;align-items: center;background-color: white;padding-right: 0.2em;padding-left: 0.2em;position: relative;}#sk-container-id-3 div.sk-item {position: relative;z-index: 1;}#sk-container-id-3 div.sk-parallel {display: flex;align-items: stretch;justify-content: center;background-color: white;position: relative;}#sk-container-id-3 div.sk-item::before, #sk-container-id-3 div.sk-parallel-item::before {content: \"\";position: absolute;border-left: 1px solid gray;box-sizing: border-box;top: 0;bottom: 0;left: 50%;z-index: -1;}#sk-container-id-3 div.sk-parallel-item {display: flex;flex-direction: column;z-index: 1;position: relative;background-color: white;}#sk-container-id-3 div.sk-parallel-item:first-child::after {align-self: flex-end;width: 50%;}#sk-container-id-3 div.sk-parallel-item:last-child::after {align-self: flex-start;width: 50%;}#sk-container-id-3 div.sk-parallel-item:only-child::after {width: 0;}#sk-container-id-3 div.sk-dashed-wrapped {border: 1px dashed gray;margin: 0 0.4em 0.5em 0.4em;box-sizing: border-box;padding-bottom: 0.4em;background-color: white;}#sk-container-id-3 div.sk-label label {font-family: monospace;font-weight: bold;display: inline-block;line-height: 1.2em;}#sk-container-id-3 div.sk-label-container {text-align: center;}#sk-container-id-3 div.sk-container {/* jupyter's `normalize.less` sets `[hidden] { display: none; }` but bootstrap.min.css set `[hidden] { display: none !important; }` so we also need the `!important` here to be able to override the default hidden behavior on the sphinx rendered scikit-learn.org. See: https://github.com/scikit-learn/scikit-learn/issues/21755 */display: inline-block !important;position: relative;}#sk-container-id-3 div.sk-text-repr-fallback {display: none;}</style><div id=\"sk-container-id-3\" class=\"sk-top-container\"><div class=\"sk-text-repr-fallback\"><pre>SVC(C=1, kernel=&#x27;linear&#x27;)</pre><b>In a Jupyter environment, please rerun this cell to show the HTML representation or trust the notebook. <br />On GitHub, the HTML representation is unable to render, please try loading this page with nbviewer.org.</b></div><div class=\"sk-container\" hidden><div class=\"sk-item\"><div class=\"sk-estimator sk-toggleable\"><input class=\"sk-toggleable__control sk-hidden--visually\" id=\"sk-estimator-id-3\" type=\"checkbox\" checked><label for=\"sk-estimator-id-3\" class=\"sk-toggleable__label sk-toggleable__label-arrow\">SVC</label><div class=\"sk-toggleable__content\"><pre>SVC(C=1, kernel=&#x27;linear&#x27;)</pre></div></div></div></div></div>"
      ],
      "text/plain": [
       "SVC(C=1, kernel='linear')"
      ]
     },
     "execution_count": 25,
     "metadata": {},
     "output_type": "execute_result"
    }
   ],
   "source": [
    "# Develop SVM Linear Kernel Model\n",
    "from sklearn.svm import SVC\n",
    "\n",
    "My_SVM = SVC(kernel = 'linear', C=1)\n",
    "My_SVM.fit(x_train_scaled, y_train)"
   ]
  },
  {
   "cell_type": "code",
   "execution_count": 27,
   "id": "ca08c2bb",
   "metadata": {},
   "outputs": [
    {
     "data": {
      "text/html": [
       "<div>\n",
       "<style scoped>\n",
       "    .dataframe tbody tr th:only-of-type {\n",
       "        vertical-align: middle;\n",
       "    }\n",
       "\n",
       "    .dataframe tbody tr th {\n",
       "        vertical-align: top;\n",
       "    }\n",
       "\n",
       "    .dataframe thead th {\n",
       "        text-align: right;\n",
       "    }\n",
       "</style>\n",
       "<table border=\"1\" class=\"dataframe\">\n",
       "  <thead>\n",
       "    <tr style=\"text-align: right;\">\n",
       "      <th></th>\n",
       "      <th>SVM(Linear)</th>\n",
       "    </tr>\n",
       "  </thead>\n",
       "  <tbody>\n",
       "    <tr>\n",
       "      <th>Train</th>\n",
       "      <td>0.963247</td>\n",
       "    </tr>\n",
       "    <tr>\n",
       "      <th>Test</th>\n",
       "      <td>0.959459</td>\n",
       "    </tr>\n",
       "  </tbody>\n",
       "</table>\n",
       "</div>"
      ],
      "text/plain": [
       "       SVM(Linear)\n",
       "Train     0.963247\n",
       "Test      0.959459"
      ]
     },
     "execution_count": 27,
     "metadata": {},
     "output_type": "execute_result"
    }
   ],
   "source": [
    "#Prediction and Performance Evaluation\n",
    "from sklearn.metrics import accuracy_score\n",
    "y_pred = My_SVM.predict(x_test_scaled)\n",
    "test_score = accuracy_score(y_test, y_pred)\n",
    "\n",
    "y_pred_train = My_SVM.predict(x_train_scaled)\n",
    "train_score = accuracy_score(y_train, y_pred_train)\n",
    "\n",
    "svm_scores = pd.DataFrame()\n",
    "svm_scores[\"SVM(Linear)\"] = [train_score, test_score]\n",
    "svm_scores.rename(index = {0: \"Train\", 1:\"Test\"}, inplace = True)\n",
    "svm_scores"
   ]
  },
  {
   "cell_type": "code",
   "execution_count": 38,
   "id": "c2236be7",
   "metadata": {},
   "outputs": [
    {
     "name": "stderr",
     "output_type": "stream",
     "text": [
      "/Users/sandeepk/opt/anaconda3/lib/python3.8/site-packages/sklearn/base.py:443: UserWarning: X has feature names, but SVC was fitted without feature names\n",
      "  warnings.warn(\n",
      "/Users/sandeepk/opt/anaconda3/lib/python3.8/site-packages/sklearn/base.py:443: UserWarning: X has feature names, but LinearSVC was fitted without feature names\n",
      "  warnings.warn(\n",
      "/Users/sandeepk/opt/anaconda3/lib/python3.8/site-packages/sklearn/base.py:443: UserWarning: X has feature names, but SVC was fitted without feature names\n",
      "  warnings.warn(\n",
      "/Users/sandeepk/opt/anaconda3/lib/python3.8/site-packages/sklearn/base.py:443: UserWarning: X has feature names, but SVC was fitted without feature names\n",
      "  warnings.warn(\n"
     ]
    },
    {
     "data": {
      "image/png": "[encoded data removed]",
      "text/plain": [
       "<Figure size 432x288 with 4 Axes>"
      ]
     },
     "metadata": {},
     "output_type": "display_data"
    }
   ],
   "source": [
    "import matplotlib.pyplot as plt\n",
    "from sklearn import svm, datasets\n",
    "from sklearn.inspection import DecisionBoundaryDisplay\n",
    "\n",
    "\n",
    "# import some data to play with\n",
    "iris = datasets.load_iris()\n",
    "# Take the first two features. We could avoid this by using a two-dim dataset\n",
    "\n",
    "# we create an instance of SVM and fit out data. We do not scale our\n",
    "# data since we want to plot the support vectors\n",
    "C = 1.0  # SVM regularization parameter\n",
    "models = (\n",
    "    svm.SVC(kernel=\"linear\", C=C),\n",
    "    svm.LinearSVC(C=C, max_iter=10000),\n",
    "    svm.SVC(kernel=\"rbf\", gamma=0.7, C=C),\n",
    "    svm.SVC(kernel=\"poly\", degree=3, gamma=\"auto\", C=C),\n",
    ")\n",
    "models = (clf.fit(x_train_scaled, y_train) for clf in models)\n",
    "\n",
    "# title for the plots\n",
    "titles = (\n",
    "    \"SVC with linear kernel\",\n",
    "    \"LinearSVC (linear kernel)\",\n",
    "    \"SVC with RBF kernel\",\n",
    "    \"SVC with polynomial (degree 3) kernel\",\n",
    ")\n",
    "\n",
    "# Set-up 2x2 grid for plotting.\n",
    "fig, sub = plt.subplots(2, 2)\n",
    "plt.subplots_adjust(wspace=0.4, hspace=0.4)\n",
    "\n",
    "X0, X1 = x.iloc[:, 0], x.iloc[:, 1]\n",
    "\n",
    "for clf, title, ax in zip(models, titles, sub.flatten()):\n",
    "    disp = DecisionBoundaryDisplay.from_estimator(\n",
    "        clf,\n",
    "        x,\n",
    "        response_method=\"predict\",\n",
    "        cmap=plt.cm.coolwarm,\n",
    "        alpha=0.8,\n",
    "        ax=ax,\n",
    "        #xlabel=iris.feature_names[0],\n",
    "        #ylabel=iris.feature_names[1],\n",
    "    )\n",
    "    ax.scatter(X0, X1, c=y, cmap=plt.cm.coolwarm, s=20, edgecolors=\"k\")\n",
    "    ax.set_xticks(())\n",
    "    ax.set_yticks(())\n",
    "    ax.set_title(title)\n",
    "\n",
    "plt.show()"
   ]
  }
 ],
 "metadata": {
  "kernelspec": {
   "display_name": "Python 3 (ipykernel)",
   "language": "python",
   "name": "python3"
  },
  "language_info": {
   "codemirror_mode": {
    "name": "ipython",
    "version": 3
   },
   "file_extension": ".py",
   "mimetype": "text/x-python",
   "name": "python",
   "nbconvert_exporter": "python",
   "pygments_lexer": "ipython3",
   "version": "3.8.8"
  }
 },
 "nbformat": 4,
 "nbformat_minor": 5
}
