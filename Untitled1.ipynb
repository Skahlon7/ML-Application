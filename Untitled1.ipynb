{
 "cells": [
  {
   "cell_type": "markdown",
   "id": "9c293bc4",
   "metadata": {},
   "source": [
    "# Linear Regression \n",
    "## Goal of Lesson \n",
    "\n",
    "### - Learn about linear classifier\n",
    "### - Understand difference from discrete classifier \n",
    "### - Understand it is supervised learning task \n",
    "### - Get insight into how similar a linear classifier is to discrete classifier\n",
    "### - Hands-on experience with linear regression \n",
    "\n",
    "\n",
    "## What is Linear Regression? \n",
    "### - Supervised Learning task of learning a mapping from input point to a continuous value "
   ]
  },
  {
   "cell_type": "code",
   "execution_count": 2,
   "id": "906fef3d",
   "metadata": {},
   "outputs": [],
   "source": [
    "import pandas as pd \n",
    "from sklearn.model_selection import train_test_split\n",
    "from sklearn.linear_model import LinearRegression \n",
    "from sklearn.metrics import r2_score \n",
    "import matplotlib.pyplot as plt \n",
    "%matplotlib inline"
   ]
  },
  {
   "cell_type": "code",
   "execution_count": null,
   "id": "5bb22317",
   "metadata": {},
   "outputs": [],
   "source": [
    "data = pd.read_csv()"
   ]
  }
 ],
 "metadata": {
  "kernelspec": {
   "display_name": "Python 3 (ipykernel)",
   "language": "python",
   "name": "python3"
  },
  "language_info": {
   "codemirror_mode": {
    "name": "ipython",
    "version": 3
   },
   "file_extension": ".py",
   "mimetype": "text/x-python",
   "name": "python",
   "nbconvert_exporter": "python",
   "pygments_lexer": "ipython3",
   "version": "3.9.7"
  }
 },
 "nbformat": 4,
 "nbformat_minor": 5
}
