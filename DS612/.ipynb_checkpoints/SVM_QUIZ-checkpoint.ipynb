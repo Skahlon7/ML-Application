{
 "cells": [
  {
   "cell_type": "code",
   "execution_count": 149,
   "id": "f7f2d409",
   "metadata": {},
   "outputs": [],
   "source": [
    "# import NumPy, Pandas, Matplotlib.pyplot libraries\n",
    "import numpy as np\n",
    "import pandas as pd\n",
    "from matplotlib import pyplot as plt\n",
    "from sklearn.datasets import load_wine\n",
    "\n",
    "Wine = load_wine()"
   ]
  },
  {
   "cell_type": "markdown",
   "id": "5a21b6d9",
   "metadata": {},
   "source": [
    "## KNN"
   ]
  },
  {
   "cell_type": "code",
   "execution_count": 150,
   "id": "67f1cac9",
   "metadata": {},
   "outputs": [],
   "source": [
    "x = Wine.data\n",
    "y = Wine.target\n",
    "\n",
    "\n",
    "from sklearn.model_selection import train_test_split\n",
    "X_train, X_test, y_train, y_test = train_test_split(x, y, test_size=0.40, random_state = 0)"
   ]
  },
  {
   "cell_type": "code",
   "execution_count": 151,
   "id": "acfc7af7",
   "metadata": {},
   "outputs": [
    {
     "data": {
      "text/plain": [
       "KNeighborsClassifier()"
      ]
     },
     "execution_count": 151,
     "metadata": {},
     "output_type": "execute_result"
    }
   ],
   "source": [
    "#Develop Model\n",
    "from sklearn.neighbors import KNeighborsClassifier as KNN\n",
    "\n",
    "number_of_neighbors = 5   \n",
    "\n",
    "my_knn = KNN(number_of_neighbors)\n",
    "\n",
    "\n",
    "my_knn.fit(X_train, y_train)"
   ]
  },
  {
   "cell_type": "code",
   "execution_count": 152,
   "id": "22623326",
   "metadata": {},
   "outputs": [],
   "source": [
    "#Prediction\n",
    "y_pred = my_knn.predict(X_test)\n",
    "y_pred_train = my_knn.predict(X_train)\n",
    "\n",
    "from sklearn import metrics\n",
    "\n",
    "Acc_test =  metrics.accuracy_score(y_test, y_pred)\n",
    "Acc_train = metrics.accuracy_score(y_train, y_pred_train)\n",
    "\n",
    "#Accuracy Score\n",
    "Accuracy = pd.DataFrame()\n",
    "Accuracy[\"KNN(5)\"]= [Acc_train, Acc_test]\n",
    "Accuracy.rename(index={0:\"Train\", 1: \"Test\"}, inplace=True)"
   ]
  },
  {
   "cell_type": "code",
   "execution_count": 154,
   "id": "faee1927",
   "metadata": {},
   "outputs": [
    {
     "data": {
      "text/html": [
       "<div>\n",
       "<style scoped>\n",
       "    .dataframe tbody tr th:only-of-type {\n",
       "        vertical-align: middle;\n",
       "    }\n",
       "\n",
       "    .dataframe tbody tr th {\n",
       "        vertical-align: top;\n",
       "    }\n",
       "\n",
       "    .dataframe thead th {\n",
       "        text-align: right;\n",
       "    }\n",
       "</style>\n",
       "<table border=\"1\" class=\"dataframe\">\n",
       "  <thead>\n",
       "    <tr style=\"text-align: right;\">\n",
       "      <th></th>\n",
       "      <th>KNN(5)</th>\n",
       "    </tr>\n",
       "  </thead>\n",
       "  <tbody>\n",
       "    <tr>\n",
       "      <th>Train</th>\n",
       "      <td>0.801887</td>\n",
       "    </tr>\n",
       "    <tr>\n",
       "      <th>Test</th>\n",
       "      <td>0.666667</td>\n",
       "    </tr>\n",
       "  </tbody>\n",
       "</table>\n",
       "</div>"
      ],
      "text/plain": [
       "         KNN(5)\n",
       "Train  0.801887\n",
       "Test   0.666667"
      ]
     },
     "execution_count": 154,
     "metadata": {},
     "output_type": "execute_result"
    }
   ],
   "source": [
    "Accuracy"
   ]
  },
  {
   "cell_type": "code",
   "execution_count": 155,
   "id": "c6171720",
   "metadata": {},
   "outputs": [
    {
     "data": {
      "text/plain": [
       "KNeighborsClassifier()"
      ]
     },
     "execution_count": 155,
     "metadata": {},
     "output_type": "execute_result"
    }
   ],
   "source": [
    "#Scaling\n",
    "from sklearn.preprocessing import StandardScaler\n",
    "scaler = StandardScaler()\n",
    "scaler.fit(X_train)\n",
    "\n",
    "x_train = scaler.transform(X_train)\n",
    "x_test = scaler.transform(X_test)\n",
    "\n",
    "number_of_neighbors = 5   \n",
    "\n",
    "scaled_knn = KNN(number_of_neighbors)\n",
    "\n",
    "scaled_knn.fit(x_train, y_train)"
   ]
  },
  {
   "cell_type": "code",
   "execution_count": 156,
   "id": "49f83c15",
   "metadata": {},
   "outputs": [
    {
     "data": {
      "text/html": [
       "<div>\n",
       "<style scoped>\n",
       "    .dataframe tbody tr th:only-of-type {\n",
       "        vertical-align: middle;\n",
       "    }\n",
       "\n",
       "    .dataframe tbody tr th {\n",
       "        vertical-align: top;\n",
       "    }\n",
       "\n",
       "    .dataframe thead th {\n",
       "        text-align: right;\n",
       "    }\n",
       "</style>\n",
       "<table border=\"1\" class=\"dataframe\">\n",
       "  <thead>\n",
       "    <tr style=\"text-align: right;\">\n",
       "      <th></th>\n",
       "      <th>KNN(5)</th>\n",
       "      <th>KNN(5) Scaled</th>\n",
       "    </tr>\n",
       "  </thead>\n",
       "  <tbody>\n",
       "    <tr>\n",
       "      <th>Train</th>\n",
       "      <td>0.801887</td>\n",
       "      <td>0.990566</td>\n",
       "    </tr>\n",
       "    <tr>\n",
       "      <th>Test</th>\n",
       "      <td>0.666667</td>\n",
       "      <td>0.972222</td>\n",
       "    </tr>\n",
       "  </tbody>\n",
       "</table>\n",
       "</div>"
      ],
      "text/plain": [
       "         KNN(5)  KNN(5) Scaled\n",
       "Train  0.801887       0.990566\n",
       "Test   0.666667       0.972222"
      ]
     },
     "execution_count": 156,
     "metadata": {},
     "output_type": "execute_result"
    }
   ],
   "source": [
    "#KNN-5 on Scaled Data\n",
    "y_pred = scaled_knn.predict(x_test)\n",
    "y_pred_train = scaled_knn.predict(x_train)\n",
    "\n",
    "Acc_test =  metrics.accuracy_score(y_test, y_pred)\n",
    "Acc_train = metrics.accuracy_score(y_train, y_pred_train)\n",
    "\n",
    "Accuracy[\"KNN(5) Scaled\"]= [Acc_train, Acc_test]\n",
    "Accuracy.rename(index={0:\"Train\", 1: \"Test\"}, inplace=True)\n",
    "Accuracy"
   ]
  },
  {
   "cell_type": "markdown",
   "id": "6f185aac",
   "metadata": {},
   "source": [
    "## Logistic "
   ]
  },
  {
   "cell_type": "code",
   "execution_count": 157,
   "id": "57ea555a",
   "metadata": {},
   "outputs": [
    {
     "data": {
      "text/plain": [
       "LogisticRegression(solver='newton-cg')"
      ]
     },
     "execution_count": 157,
     "metadata": {},
     "output_type": "execute_result"
    }
   ],
   "source": [
    "#Model Development\n",
    "from sklearn.linear_model import LogisticRegression\n",
    "My_MulctiClass_LogReg = LogisticRegression(multi_class='auto', solver = 'newton-cg')\n",
    "# solver = 'lbfgs'\n",
    "# solver = 'newton-cg'\n",
    "\n",
    "# LogisticRegerssion by default can handle multiclass classification\n",
    "\n",
    "# My_MulctiClass_LogReg = LogisticRegression()   # for Multi Class Classification\n",
    "\n",
    "My_MulctiClass_LogReg.fit(x_train, y_train)"
   ]
  },
  {
   "cell_type": "code",
   "execution_count": 158,
   "id": "c76abebd",
   "metadata": {},
   "outputs": [
    {
     "data": {
      "text/html": [
       "<div>\n",
       "<style scoped>\n",
       "    .dataframe tbody tr th:only-of-type {\n",
       "        vertical-align: middle;\n",
       "    }\n",
       "\n",
       "    .dataframe tbody tr th {\n",
       "        vertical-align: top;\n",
       "    }\n",
       "\n",
       "    .dataframe thead th {\n",
       "        text-align: right;\n",
       "    }\n",
       "</style>\n",
       "<table border=\"1\" class=\"dataframe\">\n",
       "  <thead>\n",
       "    <tr style=\"text-align: right;\">\n",
       "      <th></th>\n",
       "      <th>KNN(5)</th>\n",
       "      <th>KNN(5) Scaled</th>\n",
       "      <th>Logistic</th>\n",
       "    </tr>\n",
       "  </thead>\n",
       "  <tbody>\n",
       "    <tr>\n",
       "      <th>Train</th>\n",
       "      <td>0.801887</td>\n",
       "      <td>0.990566</td>\n",
       "      <td>1.000000</td>\n",
       "    </tr>\n",
       "    <tr>\n",
       "      <th>Test</th>\n",
       "      <td>0.666667</td>\n",
       "      <td>0.972222</td>\n",
       "      <td>0.986111</td>\n",
       "    </tr>\n",
       "  </tbody>\n",
       "</table>\n",
       "</div>"
      ],
      "text/plain": [
       "         KNN(5)  KNN(5) Scaled  Logistic\n",
       "Train  0.801887       0.990566  1.000000\n",
       "Test   0.666667       0.972222  0.986111"
      ]
     },
     "execution_count": 158,
     "metadata": {},
     "output_type": "execute_result"
    }
   ],
   "source": [
    "#Prediction\n",
    "y_pred = My_MulctiClass_LogReg.predict(x_test)\n",
    "\n",
    "y_pred_train = My_MulctiClass_LogReg.predict(x_train)\n",
    "\n",
    "Accuracy[\"Logistic\"] = [metrics.accuracy_score(y_train, y_pred_train), metrics.accuracy_score(y_test, y_pred)]\n",
    "\n",
    "Accuracy\n"
   ]
  },
  {
   "cell_type": "markdown",
   "id": "7954c848",
   "metadata": {},
   "source": [
    "## SVM"
   ]
  },
  {
   "cell_type": "code",
   "execution_count": 159,
   "id": "03942f32",
   "metadata": {},
   "outputs": [
    {
     "data": {
      "text/plain": [
       "SVC(C=1, kernel='linear')"
      ]
     },
     "execution_count": 159,
     "metadata": {},
     "output_type": "execute_result"
    }
   ],
   "source": [
    "#Model Development\n",
    "from sklearn.model_selection import train_test_split as SPLIT\n",
    "\n",
    "X_train, X_test, y_train, y_test = SPLIT(x, y, test_size = 0.40, random_state = 0)\n",
    "\n",
    "from sklearn.svm import SVC\n",
    "\n",
    "My_SVM = SVC(kernel = 'linear', C = 1)\n",
    "My_SVM.fit(X_train, y_train)"
   ]
  },
  {
   "cell_type": "code",
   "execution_count": 160,
   "id": "62ad2c40",
   "metadata": {},
   "outputs": [
    {
     "data": {
      "text/html": [
       "<div>\n",
       "<style scoped>\n",
       "    .dataframe tbody tr th:only-of-type {\n",
       "        vertical-align: middle;\n",
       "    }\n",
       "\n",
       "    .dataframe tbody tr th {\n",
       "        vertical-align: top;\n",
       "    }\n",
       "\n",
       "    .dataframe thead th {\n",
       "        text-align: right;\n",
       "    }\n",
       "</style>\n",
       "<table border=\"1\" class=\"dataframe\">\n",
       "  <thead>\n",
       "    <tr style=\"text-align: right;\">\n",
       "      <th></th>\n",
       "      <th>KNN(5)</th>\n",
       "      <th>KNN(5) Scaled</th>\n",
       "      <th>Logistic</th>\n",
       "      <th>SVM(Linear)</th>\n",
       "    </tr>\n",
       "  </thead>\n",
       "  <tbody>\n",
       "    <tr>\n",
       "      <th>Train</th>\n",
       "      <td>0.801887</td>\n",
       "      <td>0.990566</td>\n",
       "      <td>1.000000</td>\n",
       "      <td>0.990566</td>\n",
       "    </tr>\n",
       "    <tr>\n",
       "      <th>Test</th>\n",
       "      <td>0.666667</td>\n",
       "      <td>0.972222</td>\n",
       "      <td>0.986111</td>\n",
       "      <td>0.958333</td>\n",
       "    </tr>\n",
       "  </tbody>\n",
       "</table>\n",
       "</div>"
      ],
      "text/plain": [
       "         KNN(5)  KNN(5) Scaled  Logistic  SVM(Linear)\n",
       "Train  0.801887       0.990566  1.000000     0.990566\n",
       "Test   0.666667       0.972222  0.986111     0.958333"
      ]
     },
     "execution_count": 160,
     "metadata": {},
     "output_type": "execute_result"
    }
   ],
   "source": [
    "#Prediction\n",
    "\n",
    "y_pred_train = My_SVM.predict(X_train)\n",
    "\n",
    "y_pred = My_SVM.predict(X_test)\n",
    "\n",
    "acc_train = metrics.accuracy_score(y_train, y_pred_train)\n",
    "\n",
    "acc_test = metrics.accuracy_score(y_test, y_pred)\n",
    "\n",
    "Accuracy[\"SVM(Linear)\"] = [acc_train, acc_test]\n",
    "\n",
    "Accuracy"
   ]
  },
  {
   "cell_type": "code",
   "execution_count": 205,
   "id": "a3315b2d",
   "metadata": {},
   "outputs": [
    {
     "name": "stderr",
     "output_type": "stream",
     "text": [
      "/Users/sandeepk/opt/anaconda3/lib/python3.8/site-packages/sklearn/svm/_base.py:1206: ConvergenceWarning: Liblinear failed to converge, increase the number of iterations.\n",
      "  warnings.warn(\n"
     ]
    },
    {
     "data": {
      "text/html": [
       "<div>\n",
       "<style scoped>\n",
       "    .dataframe tbody tr th:only-of-type {\n",
       "        vertical-align: middle;\n",
       "    }\n",
       "\n",
       "    .dataframe tbody tr th {\n",
       "        vertical-align: top;\n",
       "    }\n",
       "\n",
       "    .dataframe thead th {\n",
       "        text-align: right;\n",
       "    }\n",
       "</style>\n",
       "<table border=\"1\" class=\"dataframe\">\n",
       "  <thead>\n",
       "    <tr style=\"text-align: right;\">\n",
       "      <th></th>\n",
       "      <th>KNN(5)</th>\n",
       "      <th>KNN(5) Scaled</th>\n",
       "      <th>Logistic</th>\n",
       "      <th>SVM(Linear)</th>\n",
       "      <th>Linear SVM</th>\n",
       "    </tr>\n",
       "  </thead>\n",
       "  <tbody>\n",
       "    <tr>\n",
       "      <th>Train</th>\n",
       "      <td>0.801887</td>\n",
       "      <td>0.990566</td>\n",
       "      <td>1.000000</td>\n",
       "      <td>0.990566</td>\n",
       "      <td>0.830189</td>\n",
       "    </tr>\n",
       "    <tr>\n",
       "      <th>Test</th>\n",
       "      <td>0.666667</td>\n",
       "      <td>0.972222</td>\n",
       "      <td>0.986111</td>\n",
       "      <td>0.958333</td>\n",
       "      <td>0.722222</td>\n",
       "    </tr>\n",
       "  </tbody>\n",
       "</table>\n",
       "</div>"
      ],
      "text/plain": [
       "         KNN(5)  KNN(5) Scaled  Logistic  SVM(Linear)  Linear SVM\n",
       "Train  0.801887       0.990566  1.000000     0.990566    0.830189\n",
       "Test   0.666667       0.972222  0.986111     0.958333    0.722222"
      ]
     },
     "execution_count": 205,
     "metadata": {},
     "output_type": "execute_result"
    }
   ],
   "source": [
    "#Linear SVM\n",
    "\n",
    "from sklearn import svm\n",
    "\n",
    "My_SVM_Linear = svm.LinearSVC(C = 1)\n",
    "\n",
    "My_SVM_Linear.fit(X_train, y_train)\n",
    "\n",
    "y_pred_train = My_SVM_Linear.predict(X_train)\n",
    "\n",
    "y_pred = My_SVM_Linear.predict(X_test)\n",
    "\n",
    "acc_train = metrics.accuracy_score(y_train, y_pred_train)\n",
    "\n",
    "acc_test = metrics.accuracy_score(y_test, y_pred)\n",
    "\n",
    "Accuracy[\"Linear SVM\"] = [acc_train, acc_test]\n",
    "\n",
    "Accuracy"
   ]
  },
  {
   "cell_type": "code",
   "execution_count": 207,
   "id": "40bd5f14",
   "metadata": {},
   "outputs": [
    {
     "data": {
      "text/html": [
       "<div>\n",
       "<style scoped>\n",
       "    .dataframe tbody tr th:only-of-type {\n",
       "        vertical-align: middle;\n",
       "    }\n",
       "\n",
       "    .dataframe tbody tr th {\n",
       "        vertical-align: top;\n",
       "    }\n",
       "\n",
       "    .dataframe thead th {\n",
       "        text-align: right;\n",
       "    }\n",
       "</style>\n",
       "<table border=\"1\" class=\"dataframe\">\n",
       "  <thead>\n",
       "    <tr style=\"text-align: right;\">\n",
       "      <th></th>\n",
       "      <th>KNN(5)</th>\n",
       "      <th>KNN(5) Scaled</th>\n",
       "      <th>Logistic</th>\n",
       "      <th>SVM(Linear)</th>\n",
       "      <th>Linear SVM</th>\n",
       "      <th>SVM(RBF)</th>\n",
       "    </tr>\n",
       "  </thead>\n",
       "  <tbody>\n",
       "    <tr>\n",
       "      <th>Train</th>\n",
       "      <td>0.801887</td>\n",
       "      <td>0.990566</td>\n",
       "      <td>1.000000</td>\n",
       "      <td>0.990566</td>\n",
       "      <td>0.830189</td>\n",
       "      <td>1.000000</td>\n",
       "    </tr>\n",
       "    <tr>\n",
       "      <th>Test</th>\n",
       "      <td>0.666667</td>\n",
       "      <td>0.972222</td>\n",
       "      <td>0.986111</td>\n",
       "      <td>0.958333</td>\n",
       "      <td>0.722222</td>\n",
       "      <td>0.430556</td>\n",
       "    </tr>\n",
       "  </tbody>\n",
       "</table>\n",
       "</div>"
      ],
      "text/plain": [
       "         KNN(5)  KNN(5) Scaled  Logistic  SVM(Linear)  Linear SVM  SVM(RBF)\n",
       "Train  0.801887       0.990566  1.000000     0.990566    0.830189  1.000000\n",
       "Test   0.666667       0.972222  0.986111     0.958333    0.722222  0.430556"
      ]
     },
     "execution_count": 207,
     "metadata": {},
     "output_type": "execute_result"
    }
   ],
   "source": [
    "#RBF\n",
    "My_SVM_RBF = svm.SVC(kernel='rbf', gamma=0.7, C=1)\n",
    "\n",
    "My_SVM_RBF.fit(X_train, y_train)\n",
    "\n",
    "y_pred_train = My_SVM_RBF.predict(X_train)\n",
    "y_pred = My_SVM_RBF.predict(X_test)\n",
    "\n",
    "acc_train = metrics.accuracy_score(y_train, y_pred_train)\n",
    "\n",
    "acc_test = metrics.accuracy_score(y_test, y_pred)\n",
    "\n",
    "Accuracy[\"SVM(RBF)\"] = [acc_train, acc_test]\n",
    "\n",
    "Accuracy"
   ]
  },
  {
   "cell_type": "code",
   "execution_count": 208,
   "id": "66c15678",
   "metadata": {},
   "outputs": [
    {
     "data": {
      "text/html": [
       "<div>\n",
       "<style scoped>\n",
       "    .dataframe tbody tr th:only-of-type {\n",
       "        vertical-align: middle;\n",
       "    }\n",
       "\n",
       "    .dataframe tbody tr th {\n",
       "        vertical-align: top;\n",
       "    }\n",
       "\n",
       "    .dataframe thead th {\n",
       "        text-align: right;\n",
       "    }\n",
       "</style>\n",
       "<table border=\"1\" class=\"dataframe\">\n",
       "  <thead>\n",
       "    <tr style=\"text-align: right;\">\n",
       "      <th></th>\n",
       "      <th>KNN(5)</th>\n",
       "      <th>KNN(5) Scaled</th>\n",
       "      <th>Logistic</th>\n",
       "      <th>SVM(Linear)</th>\n",
       "      <th>Linear SVM</th>\n",
       "      <th>SVM(RBF)</th>\n",
       "      <th>SVM(Poly)</th>\n",
       "    </tr>\n",
       "  </thead>\n",
       "  <tbody>\n",
       "    <tr>\n",
       "      <th>Train</th>\n",
       "      <td>0.801887</td>\n",
       "      <td>0.990566</td>\n",
       "      <td>1.000000</td>\n",
       "      <td>0.990566</td>\n",
       "      <td>0.830189</td>\n",
       "      <td>1.000000</td>\n",
       "      <td>0.660377</td>\n",
       "    </tr>\n",
       "    <tr>\n",
       "      <th>Test</th>\n",
       "      <td>0.666667</td>\n",
       "      <td>0.972222</td>\n",
       "      <td>0.986111</td>\n",
       "      <td>0.958333</td>\n",
       "      <td>0.722222</td>\n",
       "      <td>0.430556</td>\n",
       "      <td>0.652778</td>\n",
       "    </tr>\n",
       "  </tbody>\n",
       "</table>\n",
       "</div>"
      ],
      "text/plain": [
       "         KNN(5)  KNN(5) Scaled  Logistic  SVM(Linear)  Linear SVM  SVM(RBF)  \\\n",
       "Train  0.801887       0.990566  1.000000     0.990566    0.830189  1.000000   \n",
       "Test   0.666667       0.972222  0.986111     0.958333    0.722222  0.430556   \n",
       "\n",
       "       SVM(Poly)  \n",
       "Train   0.660377  \n",
       "Test    0.652778  "
      ]
     },
     "execution_count": 208,
     "metadata": {},
     "output_type": "execute_result"
    }
   ],
   "source": [
    "#Polynomial\n",
    "my_svm_poly = svm.SVC(kernel='poly', degree=3, C=1)\n",
    "\n",
    "my_svm_poly.fit(X_train, y_train)\n",
    "\n",
    "y_pred_train = my_svm_poly.predict(X_train)\n",
    "y_pred = my_svm_poly.predict(X_test)\n",
    "\n",
    "acc_train = metrics.accuracy_score(y_train, y_pred_train)\n",
    "\n",
    "acc_test = metrics.accuracy_score(y_test, y_pred)\n",
    "\n",
    "Accuracy[\"SVM(Poly)\"] = [acc_train, acc_test]\n",
    "\n",
    "Accuracy"
   ]
  }
 ],
 "metadata": {
  "kernelspec": {
   "display_name": "Python 3 (ipykernel)",
   "language": "python",
   "name": "python3"
  },
  "language_info": {
   "codemirror_mode": {
    "name": "ipython",
    "version": 3
   },
   "file_extension": ".py",
   "mimetype": "text/x-python",
   "name": "python",
   "nbconvert_exporter": "python",
   "pygments_lexer": "ipython3",
   "version": "3.8.8"
  }
 },
 "nbformat": 4,
 "nbformat_minor": 5
}
