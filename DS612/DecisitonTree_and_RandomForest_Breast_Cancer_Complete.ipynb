{
 "cells": [
  {
   "cell_type": "markdown",
   "metadata": {},
   "source": [
    "# Importing Libraries"
   ]
  },
  {
   "cell_type": "code",
   "execution_count": 7,
   "metadata": {},
   "outputs": [],
   "source": [
    "import pandas as pd\n",
    "from sklearn.datasets import load_breast_cancer"
   ]
  },
  {
   "cell_type": "markdown",
   "metadata": {},
   "source": [
    "# Loading data and specifying variabels"
   ]
  },
  {
   "cell_type": "code",
   "execution_count": 8,
   "metadata": {},
   "outputs": [
    {
     "name": "stdout",
     "output_type": "stream",
     "text": [
      "Size of X_cancer =  (569, 30)\n",
      "Size of y_cancer =  (569,)\n"
     ]
    }
   ],
   "source": [
    "cancer_data = load_breast_cancer()\n",
    "\n",
    "(X_cancer, y_cancer) = load_breast_cancer(return_X_y = True)\n",
    "\n",
    "# or we could use these instead:\n",
    "'''\n",
    "X_cancer = cancer_data.data\n",
    "\n",
    "y_cancer = cancer_data.target\n",
    "'''\n",
    "\n",
    "print \"Size of X_cancer = \", X_cancer.shape\n",
    "\n",
    "print \"Size of y_cancer = \", y_cancer.shape"
   ]
  },
  {
   "cell_type": "markdown",
   "metadata": {},
   "source": [
    "## Data Split"
   ]
  },
  {
   "cell_type": "code",
   "execution_count": 9,
   "metadata": {},
   "outputs": [],
   "source": [
    "from sklearn.model_selection import train_test_split as SPLIT\n",
    "\n",
    "X_train, X_test, y_train, y_test = SPLIT(X_cancer, y_cancer, random_state = 0)"
   ]
  },
  {
   "cell_type": "markdown",
   "metadata": {},
   "source": [
    "# 1) Decision Tree"
   ]
  },
  {
   "cell_type": "markdown",
   "metadata": {},
   "source": [
    "## Model Development "
   ]
  },
  {
   "cell_type": "code",
   "execution_count": 10,
   "metadata": {},
   "outputs": [],
   "source": [
    "from sklearn.tree import DecisionTreeClassifier\n",
    "\n",
    "my_tree_classifier = DecisionTreeClassifier().fit(X_train, y_train)"
   ]
  },
  {
   "cell_type": "markdown",
   "metadata": {},
   "source": [
    "## Prediction and Evaluation"
   ]
  },
  {
   "cell_type": "code",
   "execution_count": 11,
   "metadata": {},
   "outputs": [
    {
     "name": "stdout",
     "output_type": "stream",
     "text": [
      "Accuracy Score on Test Data =  0.8951048951048951\n",
      "Accuracy Score on Train Data =  1.0\n"
     ]
    }
   ],
   "source": [
    "from sklearn.metrics import accuracy_score\n",
    "\n",
    "y_pred = my_tree_classifier.predict(X_test)\n",
    "\n",
    "y_pred_train = my_tree_classifier.predict(X_train)\n",
    "\n",
    "print \"Accuracy Score on Test Data = \", accuracy_score(y_test, y_pred)\n",
    "print \"Accuracy Score on Train Data = \", accuracy_score(y_train, y_pred_train)"
   ]
  },
  {
   "cell_type": "markdown",
   "metadata": {},
   "source": [
    "## Pre-pruning to avoid Overfitting"
   ]
  },
  {
   "cell_type": "markdown",
   "metadata": {},
   "source": [
    "It seems that we have overfitting problem.\n",
    "\n",
    "So, we are going to use *max_dept* and *min_samples_leaf* to restric the complexity of the tree\n",
    "\n"
   ]
  },
  {
   "cell_type": "code",
   "execution_count": 49,
   "metadata": {
    "collapsed": true
   },
   "outputs": [],
   "source": [
    "my_tree_classifier_2 = DecisionTreeClassifier(max_depth = 4, min_samples_leaf = 8, random_state = 0).fit(X_train, y_train)"
   ]
  },
  {
   "cell_type": "markdown",
   "metadata": {},
   "source": [
    "## Prediction and Evaluation"
   ]
  },
  {
   "cell_type": "code",
   "execution_count": 50,
   "metadata": {},
   "outputs": [
    {
     "name": "stdout",
     "output_type": "stream",
     "text": [
      "Accuracy Score on Test Data =  0.937062937063\n",
      "Accuracy Score on Train Data =  0.964788732394\n"
     ]
    }
   ],
   "source": [
    "y_pred = my_tree_classifier_2.predict(X_test)\n",
    "\n",
    "y_pred_train = my_tree_classifier_2.predict(X_train)\n",
    "\n",
    "print \"Accuracy Score on Test Data = \", accuracy_score(y_test, y_pred)\n",
    "print \"Accuracy Score on Train Data = \", accuracy_score(y_train, y_pred_train)"
   ]
  },
  {
   "cell_type": "markdown",
   "metadata": {
    "collapsed": true
   },
   "source": [
    "# 2) Random Forest\n",
    "\n",
    "## Model Development"
   ]
  },
  {
   "cell_type": "code",
   "execution_count": 44,
   "metadata": {},
   "outputs": [],
   "source": [
    "# import RandomForestClassifier from sklearn.ensemble module\n",
    "\n",
    "from sklearn.ensemble import RandomForestClassifier\n",
    "\n",
    "k = 8\n",
    "\n",
    "My_Random_Forest = RandomForestClassifier(max_features = k, random_state = 0)\n",
    "\n",
    "My_Random_Forest = My_Random_Forest.fit(X_train, y_train)"
   ]
  },
  {
   "cell_type": "markdown",
   "metadata": {},
   "source": [
    "# Prediction and Evaluation"
   ]
  },
  {
   "cell_type": "code",
   "execution_count": 46,
   "metadata": {},
   "outputs": [
    {
     "name": "stdout",
     "output_type": "stream",
     "text": [
      "Accuracy Score on Test Data =  0.986013986014\n",
      "Accuracy Score on Train Data =  0.995305164319\n"
     ]
    }
   ],
   "source": [
    "y_pred = My_Random_Forest.predict(X_test)\n",
    "\n",
    "y_pred_train = My_Random_Forest.predict(X_train)\n",
    "\n",
    "print \"Accuracy Score on Test Data = \", accuracy_score(y_test, y_pred)\n",
    "print \"Accuracy Score on Train Data = \", accuracy_score(y_train, y_pred_train)"
   ]
  },
  {
   "cell_type": "markdown",
   "metadata": {},
   "source": [
    "### How to set k (max_features)?"
   ]
  },
  {
   "cell_type": "markdown",
   "metadata": {},
   "source": [
    "A good rule of thumb is to set **k = sqrt(number_of_features)**, and then try few higher values and lower values"
   ]
  },
  {
   "cell_type": "code",
   "execution_count": 45,
   "metadata": {},
   "outputs": [
    {
     "name": "stdout",
     "output_type": "stream",
     "text": [
      "Features of our Data =  ['mean radius' 'mean texture' 'mean perimeter' 'mean area'\n",
      " 'mean smoothness' 'mean compactness' 'mean concavity'\n",
      " 'mean concave points' 'mean symmetry' 'mean fractal dimension'\n",
      " 'radius error' 'texture error' 'perimeter error' 'area error'\n",
      " 'smoothness error' 'compactness error' 'concavity error'\n",
      " 'concave points error' 'symmetry error' 'fractal dimension error'\n",
      " 'worst radius' 'worst texture' 'worst perimeter' 'worst area'\n",
      " 'worst smoothness' 'worst compactness' 'worst concavity'\n",
      " 'worst concave points' 'worst symmetry' 'worst fractal dimension']\n",
      "\n",
      "Size of features =  30\n"
     ]
    }
   ],
   "source": [
    "# Try it with different k\n",
    "\n",
    "print \"Features of our Data = \", cancer_data.feature_names\n",
    "print\n",
    "print \"Size of features = \", len(cancer_data.feature_names)\n",
    "\n",
    "# Try with different n_estimators as well"
   ]
  },
  {
   "cell_type": "code",
   "execution_count": null,
   "metadata": {
    "collapsed": true
   },
   "outputs": [],
   "source": []
  }
 ],
 "metadata": {
  "kernelspec": {
   "display_name": "Python 2",
   "language": "python",
   "name": "python2"
  },
  "language_info": {
   "codemirror_mode": {
    "name": "ipython",
    "version": 2
   },
   "file_extension": ".py",
   "mimetype": "text/x-python",
   "name": "python",
   "nbconvert_exporter": "python",
   "pygments_lexer": "ipython2",
   "version": "2.7.17"
  }
 },
 "nbformat": 4,
 "nbformat_minor": 2
}
