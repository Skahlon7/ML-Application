{
 "cells": [
  {
   "cell_type": "markdown",
   "metadata": {},
   "source": [
    "# Importing Libraries"
   ]
  },
  {
   "cell_type": "code",
   "execution_count": 57,
   "metadata": {},
   "outputs": [],
   "source": [
    "# Import pandas\n",
    "import pandas as pd\n",
    "\n",
    "# from datasets module in sklearn, import load_breast_cancer\n",
    "from sklearn.datasets import load_breast_cancer"
   ]
  },
  {
   "cell_type": "markdown",
   "metadata": {},
   "source": [
    "# Loading data and specifying variabels"
   ]
  },
  {
   "cell_type": "code",
   "execution_count": 59,
   "metadata": {},
   "outputs": [],
   "source": [
    "cancer = load_breast_cancer()\n",
    "\n",
    "# Speicify X and y variables\n",
    "X = cancer.data\n",
    "y = cancer.target"
   ]
  },
  {
   "cell_type": "markdown",
   "metadata": {},
   "source": [
    "## Data Split"
   ]
  },
  {
   "cell_type": "code",
   "execution_count": 61,
   "metadata": {
    "collapsed": true
   },
   "outputs": [],
   "source": [
    "from sklearn.model_selection import train_test_split as SPLIT\n",
    "X_train, X_test, y_train, y_test = SPLIT(X, y, random_state = 0)"
   ]
  },
  {
   "cell_type": "markdown",
   "metadata": {
    "collapsed": true
   },
   "source": [
    "# Gradient Boosted Decisiton Trees"
   ]
  },
  {
   "cell_type": "code",
   "execution_count": 67,
   "metadata": {},
   "outputs": [],
   "source": [
    "# Import Libraries\n",
    "# from sklear.ensemble import GradientBoostingClassifier\n",
    "from sklearn.ensemble import GradientBoostingClassifier as GBDT\n",
    "\n",
    "# set the random_state = 0\n",
    "My_GBDT = GBDT(random_state = 0).fit(X_train, y_train)"
   ]
  },
  {
   "cell_type": "markdown",
   "metadata": {},
   "source": [
    "## Prediction and Evaluation"
   ]
  },
  {
   "cell_type": "code",
   "execution_count": 69,
   "metadata": {},
   "outputs": [
    {
     "name": "stdout",
     "output_type": "stream",
     "text": [
      "Accuracy Score on Test Data =  0.958041958042\n",
      "Accuracy Score on Train Data =  1.0\n"
     ]
    }
   ],
   "source": [
    "from sklearn.metrics import accuracy_score\n",
    "\n",
    "# make prediction on training and test data \n",
    "\n",
    "y_pred = My_GBDT.predict(X_test)\n",
    "\n",
    "y_pred_train = My_GBDT.predict(X_train)\n",
    "\n",
    "# print accuracy_score for your predictions\n",
    "print \"Accuracy Score on Test Data = \", accuracy_score(y_test, y_pred)\n",
    "print \"Accuracy Score on Train Data = \", accuracy_score(y_train, y_pred_train)"
   ]
  },
  {
   "cell_type": "code",
   "execution_count": 74,
   "metadata": {
    "collapsed": true
   },
   "outputs": [],
   "source": [
    "# set the values for learning_rate and max_depth to control the performance of the algorithm\n",
    "# ReDo it for different values\n",
    "\n",
    "My_GBDT_2 = GBDT(random_state = 0, learning_rate = 0.01, max_depth = 2).fit(X_train, y_train)"
   ]
  },
  {
   "cell_type": "code",
   "execution_count": 75,
   "metadata": {},
   "outputs": [
    {
     "name": "stdout",
     "output_type": "stream",
     "text": [
      "Accuracy Score on Test Data =  0.965034965035\n",
      "Accuracy Score on Train Data =  0.974178403756\n"
     ]
    }
   ],
   "source": [
    "# make prediction on training and test data \n",
    "\n",
    "y_pred = My_GBDT_2.predict(X_test)\n",
    "\n",
    "y_pred_train = My_GBDT_2.predict(X_train)\n",
    "\n",
    "# print accuracy_score for your predictions\n",
    "print \"Accuracy Score on Test Data = \", accuracy_score(y_test, y_pred)\n",
    "print \"Accuracy Score on Train Data = \", accuracy_score(y_train, y_pred_train)"
   ]
  },
  {
   "cell_type": "code",
   "execution_count": null,
   "metadata": {
    "collapsed": true
   },
   "outputs": [],
   "source": []
  }
 ],
 "metadata": {
  "kernelspec": {
   "display_name": "Python 2",
   "language": "python",
   "name": "python2"
  },
  "language_info": {
   "codemirror_mode": {
    "name": "ipython",
    "version": 2
   },
   "file_extension": ".py",
   "mimetype": "text/x-python",
   "name": "python",
   "nbconvert_exporter": "python",
   "pygments_lexer": "ipython2",
   "version": "2.7.17"
  }
 },
 "nbformat": 4,
 "nbformat_minor": 2
}
